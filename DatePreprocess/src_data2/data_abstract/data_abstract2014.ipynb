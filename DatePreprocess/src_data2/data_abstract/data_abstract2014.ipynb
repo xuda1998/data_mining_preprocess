{
 "cells": [
  {
   "cell_type": "markdown",
   "metadata": {},
   "source": [
    "本文档为数据摘要的分析过程，主要是在oakland-crime-statistics-2011-to-2016数据集上进行数据分析，提取标称属性并计算各聚会的频数，计算数值属性的五数概括和缺失值个数并绘制对应图表"
   ]
  },
  {
   "cell_type": "code",
   "execution_count": 1,
   "metadata": {},
   "outputs": [],
   "source": [
    "import csv\n",
    "import numpy as np\n",
    "import pandas as pd\n",
    "import matplotlib.pyplot as plt"
   ]
  },
  {
   "cell_type": "code",
   "execution_count": 2,
   "metadata": {},
   "outputs": [],
   "source": [
    "data = pd.read_csv(\"..//..//dataset//oakland-crime-statistics-2011-to-2016//records-for-2014.csv\")"
   ]
  },
  {
   "cell_type": "code",
   "execution_count": 3,
   "metadata": {},
   "outputs": [
    {
     "name": "stdout",
     "output_type": "stream",
     "text": [
      "OP    187480\n",
      "Name: Agency, dtype: int64\n"
     ]
    }
   ],
   "source": [
    "agency = data.loc[:,'Agency']\n",
    "print(agency.value_counts())"
   ]
  },
  {
   "cell_type": "code",
   "execution_count": 4,
   "metadata": {},
   "outputs": [
    {
     "name": "stdout",
     "output_type": "stream",
     "text": [
      "{'human_address': '{\"address\": \"INTERNATIONAL BLVD\", \"city\": \"\", \"state\": \"\", \"zip\": \"\"}'}              3713\n",
      "{'human_address': '{\"address\": \"AV&INTERNATIONAL BLVD\", \"city\": \"\", \"state\": \"\", \"zip\": \"\"}'}           3290\n",
      "{'human_address': '{\"address\": \"MACARTHUR BLVD\", \"city\": \"\", \"state\": \"\", \"zip\": \"\"}'}                  2812\n",
      "{'human_address': '{\"address\": \"BROADWAY\", \"city\": \"\", \"state\": \"\", \"zip\": \"\"}'}                        1996\n",
      "{'human_address': '{\"address\": \"FOOTHILL BLVD\", \"city\": \"\", \"state\": \"\", \"zip\": \"\"}'}                   1774\n",
      "{'human_address': '{\"address\": \"TELEGRAPH AV\", \"city\": \"\", \"state\": \"\", \"zip\": \"\"}'}                    1573\n",
      "{'human_address': '{\"address\": \"BANCROFT AV\", \"city\": \"\", \"state\": \"\", \"zip\": \"\"}'}                     1428\n",
      "{'human_address': '{\"address\": \"7TH ST\", \"city\": \"\", \"state\": \"\", \"zip\": \"\"}'}                          1285\n",
      "{'human_address': '{\"address\": \"ST&TELEGRAPH AV\", \"city\": \"\", \"state\": \"\", \"zip\": \"\"}'}                 1222\n",
      "{'human_address': '{\"address\": \"SAN PABLO AV\", \"city\": \"\", \"state\": \"\", \"zip\": \"\"}'}                    1213\n",
      "{'human_address': '{\"address\": \"AV&MACARTHUR BLVD\", \"city\": \"\", \"state\": \"\", \"zip\": \"\"}'}               1195\n",
      "{'human_address': '{\"address\": \"ST&BROADWAY\", \"city\": \"\", \"state\": \"\", \"zip\": \"\"}'}                     1176\n",
      "{'human_address': '{\"address\": \"FRUITVALE AV\", \"city\": \"\", \"state\": \"\", \"zip\": \"\"}'}                    1150\n",
      "{'human_address': '{\"address\": \"HEGENBERGER RD\", \"city\": \"\", \"state\": \"\", \"zip\": \"\"}'}                  1042\n",
      "{'human_address': '{\"address\": \"ST&MARTIN LUTHER KING JR WY\", \"city\": \"\", \"state\": \"\", \"zip\": \"\"}'}      942\n",
      "{'human_address': '{\"address\": \"AV&BANCROFT AV\", \"city\": \"\", \"state\": \"\", \"zip\": \"\"}'}                   938\n",
      "{'human_address': '{\"address\": \"AV&FOOTHILL BLVD\", \"city\": \"\", \"state\": \"\", \"zip\": \"\"}'}                 930\n",
      "{'human_address': '{\"address\": \"73RD AV\", \"city\": \"\", \"state\": \"\", \"zip\": \"\"}'}                          919\n",
      "{'human_address': '{\"address\": \"HARRISON ST\", \"city\": \"\", \"state\": \"\", \"zip\": \"\"}'}                      915\n",
      "{'human_address': '{\"address\": \"HIGH ST\", \"city\": \"\", \"state\": \"\", \"zip\": \"\"}'}                          906\n",
      "{'human_address': '{\"address\": \"WEBSTER ST\", \"city\": \"\", \"state\": \"\", \"zip\": \"\"}'}                       791\n",
      "{'human_address': '{\"address\": \"14TH ST\", \"city\": \"\", \"state\": \"\", \"zip\": \"\"}'}                          788\n",
      "{'human_address': '{\"address\": \"E 12TH ST\", \"city\": \"\", \"state\": \"\", \"zip\": \"\"}'}                        724\n",
      "{'human_address': '{\"address\": \"MARKET ST\", \"city\": \"\", \"state\": \"\", \"zip\": \"\"}'}                        704\n",
      "{'human_address': '{\"address\": \"ST&MARKET ST\", \"city\": \"\", \"state\": \"\", \"zip\": \"\"}'}                     703\n",
      "{'human_address': '{\"address\": \"EDGEWATER DR\", \"city\": \"\", \"state\": \"\", \"zip\": \"\"}'}                     686\n",
      "{'human_address': '{\"address\": \"8TH ST\", \"city\": \"\", \"state\": \"\", \"zip\": \"\"}'}                           679\n",
      "{'human_address': '{\"address\": \"GRAND AV\", \"city\": \"\", \"state\": \"\", \"zip\": \"\"}'}                         678\n",
      "{'human_address': '{\"address\": \"35TH AV\", \"city\": \"\", \"state\": \"\", \"zip\": \"\"}'}                          673\n",
      "{'human_address': '{\"address\": \"W MACARTHUR BLVD\", \"city\": \"\", \"state\": \"\", \"zip\": \"\"}'}                 666\n",
      "                                                                                                        ... \n",
      "{'human_address': '{\"address\": \"BELVEDERE 66TH AV\", \"city\": \"\", \"state\": \"\", \"zip\": \"\"}'}                  1\n",
      "{'human_address': '{\"address\": \"86TH CONTRA COSTA RD\", \"city\": \"\", \"state\": \"\", \"zip\": \"\"}'}               1\n",
      "{'human_address': '{\"address\": \"HIGH 24TH ST\", \"city\": \"\", \"state\": \"\", \"zip\": \"\"}'}                       1\n",
      "{'human_address': '{\"address\": \"KRAUSE BLVD&MILLER AV\", \"city\": \"\", \"state\": \"\", \"zip\": \"\"}'}              1\n",
      "{'human_address': '{\"address\": \"MACARTHUR PEACH ST\", \"city\": \"\", \"state\": \"\", \"zip\": \"\"}'}                 1\n",
      "{'human_address': '{\"address\": \"76TH 78TH AV\", \"city\": \"\", \"state\": \"\", \"zip\": \"\"}'}                       1\n",
      "{'human_address': '{\"address\": \"E BYRON AV\", \"city\": \"\", \"state\": \"\", \"zip\": \"\"}'}                         1\n",
      "{'human_address': '{\"address\": \"NB PENNIMAN AV\", \"city\": \"\", \"state\": \"\", \"zip\": \"\"}'}                     1\n",
      "{'human_address': '{\"address\": \"26TH OAKPORT ST\", \"city\": \"\", \"state\": \"\", \"zip\": \"\"}'}                    1\n",
      "{'human_address': '{\"address\": \"50TH FAIRWAY AV\", \"city\": \"\", \"state\": \"\", \"zip\": \"\"}'}                    1\n",
      "{'human_address': '{\"address\": \"FISHER WASHINGTON ST\", \"city\": \"\", \"state\": \"\", \"zip\": \"\"}'}               1\n",
      "{'human_address': '{\"address\": \"BROOKDALE TELEGRAPH AV\", \"city\": \"\", \"state\": \"\", \"zip\": \"\"}'}             1\n",
      "{'human_address': '{\"address\": \"19TH CENTER ST\", \"city\": \"\", \"state\": \"\", \"zip\": \"\"}'}                     1\n",
      "{'human_address': '{\"address\": \"CARSON ST&BROADWAY\", \"city\": \"\", \"state\": \"\", \"zip\": \"\"}'}                 1\n",
      "{'human_address': '{\"address\": \"MOORPARK E 38TH ST\", \"city\": \"\", \"state\": \"\", \"zip\": \"\"}'}                 1\n",
      "{'human_address': '{\"address\": \"MADERA 108TH AV\", \"city\": \"\", \"state\": \"\", \"zip\": \"\"}'}                    1\n",
      "{'human_address': '{\"address\": \"DAISY MACARTHUR BLVD\", \"city\": \"\", \"state\": \"\", \"zip\": \"\"}'}               1\n",
      "{'human_address': '{\"address\": \"75TH CAPISTRANO DR\", \"city\": \"\", \"state\": \"\", \"zip\": \"\"}'}                 1\n",
      "{'human_address': '{\"address\": \"73RD 101ST AV\", \"city\": \"\", \"state\": \"\", \"zip\": \"\"}'}                      1\n",
      "{'human_address': '{\"address\": \"42ND E 31ST ST\", \"city\": \"\", \"state\": \"\", \"zip\": \"\"}'}                     1\n",
      "{'human_address': '{\"address\": \"105TH ST&CHESTER ST\", \"city\": \"\", \"state\": \"\", \"zip\": \"\"}'}                1\n",
      "{'human_address': '{\"address\": \"COLLEGE STEARNS AV\", \"city\": \"\", \"state\": \"\", \"zip\": \"\"}'}                 1\n",
      "{'human_address': '{\"address\": \"24TH HILLGIRT CIR\", \"city\": \"\", \"state\": \"\", \"zip\": \"\"}'}                  1\n",
      "{'human_address': '{\"address\": \"51ST APGAR ST\", \"city\": \"\", \"state\": \"\", \"zip\": \"\"}'}                      1\n",
      "{'human_address': '{\"address\": \"HEGENBERGER ST&WASHINGTON ST\", \"city\": \"\", \"state\": \"\", \"zip\": \"\"}'}       1\n",
      "{'human_address': '{\"address\": \"MOKELUMNE TOMPKINS AV\", \"city\": \"\", \"state\": \"\", \"zip\": \"\"}'}              1\n",
      "{'human_address': '{\"address\": \"72ND AV&MACARTHUR BLVD\", \"city\": \"\", \"state\": \"\", \"zip\": \"\"}'}             1\n",
      "{'human_address': '{\"address\": \"AV&VERMONT ST\", \"city\": \"\", \"state\": \"\", \"zip\": \"\"}'}                      1\n",
      "{'human_address': '{\"address\": \"23RD ST&STEELE ST\", \"city\": \"\", \"state\": \"\", \"zip\": \"\"}'}                  1\n",
      "{'human_address': '{\"address\": \"1ST GLEN AV\", \"city\": \"\", \"state\": \"\", \"zip\": \"\"}'}                        1\n",
      "Name: Location 1, Length: 35131, dtype: int64\n"
     ]
    }
   ],
   "source": [
    "Location = data.loc[:,'Location 1']\n",
    "print(Location.value_counts())"
   ]
  },
  {
   "cell_type": "code",
   "execution_count": 5,
   "metadata": {
    "scrolled": true
   },
   "outputs": [
    {
     "name": "stdout",
     "output_type": "stream",
     "text": [
      "1.0    5031\n",
      "2.0    3898\n",
      "5.0     320\n",
      "4.0     236\n",
      "3.0     208\n",
      "Name: Area Id, dtype: int64\n"
     ]
    }
   ],
   "source": [
    "area = data.loc[:,'Area Id']\n",
    "print(area.value_counts())"
   ]
  },
  {
   "cell_type": "code",
   "execution_count": 6,
   "metadata": {},
   "outputs": [
    {
     "data": {
      "image/png": "[encoded data removed]",
      "text/plain": [
       "<matplotlib.figure.Figure at 0x20e20e3e898>"
      ]
     },
     "metadata": {},
     "output_type": "display_data"
    }
   ],
   "source": [
    "num = area.value_counts()\n",
    "plt.figure()\n",
    "num.plot(kind='bar')\n",
    "plt.show()"
   ]
  },
  {
   "cell_type": "code",
   "execution_count": 7,
   "metadata": {},
   "outputs": [
    {
     "name": "stdout",
     "output_type": "stream",
     "text": [
      "04X     7868\n",
      "08X     6723\n",
      "30X     5539\n",
      "23X     5485\n",
      "30Y     5454\n",
      "26Y     5377\n",
      "19X     5290\n",
      "06X     4931\n",
      "34X     4865\n",
      "03X     4727\n",
      "27Y     4653\n",
      "29X     4645\n",
      "20X     4639\n",
      "07X     4617\n",
      "31Y     4541\n",
      "25X     4372\n",
      "35X     4240\n",
      "27X     3912\n",
      "32X     3833\n",
      "21Y     3784\n",
      "09X     3625\n",
      "32Y     3622\n",
      "02Y     3621\n",
      "33X     3561\n",
      "12Y     3214\n",
      "03Y     3212\n",
      "14X     2870\n",
      "24X     2843\n",
      "26X     2843\n",
      "02X     2819\n",
      "22X     2789\n",
      "24Y     2673\n",
      "10X     2566\n",
      "10Y     2537\n",
      "12X     2516\n",
      "21X     2502\n",
      "31X     2486\n",
      "17Y     2480\n",
      "05X     2442\n",
      "13Z     2415\n",
      "15X     2347\n",
      "01X     2320\n",
      "22Y     2297\n",
      "28X     2186\n",
      "11X     2092\n",
      "31Z     2022\n",
      "17X     1860\n",
      "35Y     1860\n",
      "14Y     1772\n",
      "13Y     1720\n",
      "18Y     1609\n",
      "16Y     1495\n",
      "25Y     1319\n",
      "13X     1211\n",
      "18X     1142\n",
      "16X     1035\n",
      "05Y      821\n",
      "PDT2      24\n",
      "Name: Beat, dtype: int64\n"
     ]
    }
   ],
   "source": [
    "Beat= data.loc[:,'Beat']\n",
    "print(Beat.value_counts())"
   ]
  },
  {
   "cell_type": "code",
   "execution_count": 8,
   "metadata": {},
   "outputs": [
    {
     "name": "stdout",
     "output_type": "stream",
     "text": [
      "2    144707\n",
      "1     42773\n",
      "Name: Priority, dtype: int64\n"
     ]
    }
   ],
   "source": [
    "Priority= data.loc[:,'Priority']\n",
    "print(Priority.value_counts())"
   ]
  },
  {
   "cell_type": "code",
   "execution_count": 9,
   "metadata": {},
   "outputs": [
    {
     "data": {
      "image/png": "[encoded data removed]",
      "text/plain": [
       "<matplotlib.figure.Figure at 0x20e1b685cf8>"
      ]
     },
     "metadata": {},
     "output_type": "display_data"
    }
   ],
   "source": [
    "num = Priority.value_counts()\n",
    "plt.figure()\n",
    "num.plot(kind='bar')\n",
    "plt.show()"
   ]
  },
  {
   "cell_type": "code",
   "execution_count": 10,
   "metadata": {},
   "outputs": [
    {
     "name": "stdout",
     "output_type": "stream",
     "text": [
      "933R      17799\n",
      "SECCK     13784\n",
      "415       11937\n",
      "911H       9647\n",
      "10851      8894\n",
      "5150       7002\n",
      "415C       5925\n",
      "242        5709\n",
      "912        4799\n",
      "243E       4504\n",
      "415GS      3566\n",
      "949        3417\n",
      "WELCK      3365\n",
      "HAZ        3364\n",
      "211        3147\n",
      "901A       2632\n",
      "415TH      2447\n",
      "602L       2390\n",
      "245        2295\n",
      "943        2188\n",
      "20002      2137\n",
      "415N       1948\n",
      "975        1843\n",
      "CODE7      1834\n",
      "933MA      1770\n",
      "601R       1693\n",
      "459        1587\n",
      "647C       1539\n",
      "901        1520\n",
      "415CU      1494\n",
      "          ...  \n",
      "508           3\n",
      "SEWER         3\n",
      "ABC           3\n",
      "182           3\n",
      "3211H         3\n",
      "EBMUD         3\n",
      "530           2\n",
      "261VIC        2\n",
      "243B          2\n",
      "107           2\n",
      "372           2\n",
      "140           2\n",
      "475           2\n",
      "VINVER        2\n",
      "LPROP         2\n",
      "IFS           1\n",
      "270C          1\n",
      "524           1\n",
      "484E          1\n",
      "290           1\n",
      "626_6         1\n",
      "593           1\n",
      "162           1\n",
      "OTC           1\n",
      "148_5A        1\n",
      "3056          1\n",
      "11368         1\n",
      "SUB           1\n",
      "YELALT        1\n",
      "A487          1\n",
      "Name: Incident Type Id, Length: 257, dtype: int64\n"
     ]
    }
   ],
   "source": [
    "Incident= data.loc[:,'Incident Type Id']\n",
    "print(Incident.value_counts())"
   ]
  },
  {
   "cell_type": "code",
   "execution_count": 11,
   "metadata": {},
   "outputs": [
    {
     "name": "stdout",
     "output_type": "stream",
     "text": [
      "ALARM-RINGER            17799\n",
      "SECURITY CHECK          13784\n",
      "911 HANG-UP              9647\n",
      "STOLEN VEHICLE           8894\n",
      "MENTALLY ILL             7002\n",
      "DISTURBING THE PEACE     6851\n",
      "415 UNKNOWN              5925\n",
      "BATTERY                  5709\n",
      "SUSPICIOUS PERSON        4799\n",
      "BATTERY ON CO-HABITA     4504\n",
      "415 FAMILY               3923\n",
      "415 GUNSHOTS             3566\n",
      "SUSPICIOUS VEHICLE       3417\n",
      "WELFARE CHECK -- CHE     3365\n",
      "HAZARDOUS SITUATION/     3364\n",
      "ROBBERY                  3147\n",
      "VEHICLE COLLISION-PE     2632\n",
      "415 THREATS              2447\n",
      "TRESPASS:                2390\n",
      "ASSAULT W/DEADLY WEA     2295\n",
      "FIGHT                    2188\n",
      "HIT & RUN (PROPERTY      2137\n",
      "DISTURBANCE-NEIGHBOR     1948\n",
      "STAND BY AND PRESERV     1843\n",
      "SUBJECT ARMED WITH W     1834\n",
      "ALARM-MANUALLY ACTIV     1770\n",
      "RUNAWAY                  1693\n",
      "BURGLARY                 1587\n",
      "OBSTRUCT PERSON'S MO     1539\n",
      "DISTURBANCE-CUSTOMER     1494\n",
      "                        ...  \n",
      "EASTBAY MUD                 3\n",
      "CHILD TAKEN INTO PRO        3\n",
      "SCOOTERS INVOLVED IN        3\n",
      "CONSPIRACY COURT ORD        3\n",
      "THROWING SUBSTANCES         3\n",
      "PROTECTIVE CUSTODY-N        3\n",
      "7 DIGIT EMERGENCY LI        3\n",
      "EMBEZZLEMENT BY AN E        3\n",
      "POSSESS FORGED NOTES        2\n",
      "ESCAPE DETENTION            2\n",
      "VIN VERIFICATION            2\n",
      "MAINTAINING PUBLIC N        2\n",
      "LOST PROPERY                2\n",
      "ASSAULT ON A POLICE         2\n",
      "RAPE VICTIM                 2\n",
      "THREATEN WITNESS/VIC        2\n",
      "IDENTITY THEFT              2\n",
      "VIOLATION OF PAROLE:        1\n",
      "SUB-RESPONSIBLE FOR         1\n",
      "OBTAIN MONEY BY FALS        1\n",
      "FALSE REPORT OF CRIM        1\n",
      "ATTEMPTED EXTORTION         1\n",
      "INSFRASTRUCTURE SECU        1\n",
      "NONSTUDENT REFUSE TO        1\n",
      "OAKLAND TRAFFIC CODE        1\n",
      "INTERFERE WITH POWER        1\n",
      "BIG RIG PARKED IN RE        1\n",
      "REQUIRED TO REGISTER        1\n",
      "ATTEMPTED GRAND THEF        1\n",
      "YELLOW ALERT AT THE         1\n",
      "Name: Incident Type Description, Length: 257, dtype: int64\n"
     ]
    }
   ],
   "source": [
    "Description= data.loc[:,'Incident Type Description']\n",
    "print(Description.value_counts())"
   ]
  },
  {
   "cell_type": "code",
   "execution_count": 12,
   "metadata": {},
   "outputs": [
    {
     "name": "stdout",
     "output_type": "stream",
     "text": [
      "LOP140301000906    1\n",
      "LOP140107000682    1\n",
      "LOP140315000846    1\n",
      "LOP140811000167    1\n",
      "LOP140107000881    1\n",
      "LOP140626000792    1\n",
      "LOP140723001146    1\n",
      "LOP140804000854    1\n",
      "LOP141118000074    1\n",
      "LOP141019000351    1\n",
      "LOP141219000969    1\n",
      "LOP140325001029    1\n",
      "LOP141208000533    1\n",
      "LOP141105000610    1\n",
      "LOP140105000741    1\n",
      "LOP140828000402    1\n",
      "LOP140314000922    1\n",
      "LOP140713000955    1\n",
      "LOP141204000230    1\n",
      "LOP141224000022    1\n",
      "LOP140215000613    1\n",
      "LOP141209000516    1\n",
      "LOP140604000951    1\n",
      "LOP140411000989    1\n",
      "LOP140822000587    1\n",
      "LOP140906000715    1\n",
      "LOP140824000934    1\n",
      "LOP140621000767    1\n",
      "LOP140607001024    1\n",
      "LOP140402000753    1\n",
      "                  ..\n",
      "LOP140307000518    1\n",
      "LOP141114000048    1\n",
      "LOP140209000338    1\n",
      "LOP140821000036    1\n",
      "LOP140727000228    1\n",
      "LOP141224000550    1\n",
      "LOP141112000433    1\n",
      "LOP140223000794    1\n",
      "LOP140208000355    1\n",
      "LOP140305000966    1\n",
      "LOP140824000549    1\n",
      "LOP140112000688    1\n",
      "LOP140205000651    1\n",
      "LOP140227000439    1\n",
      "LOP140830000060    1\n",
      "LOP140924000023    1\n",
      "LOP140506001020    1\n",
      "LOP141208000836    1\n",
      "LOP140409000628    1\n",
      "LOP140426000258    1\n",
      "LOP140130000773    1\n",
      "LOP140829000791    1\n",
      "LOP140308000701    1\n",
      "LOP140824000891    1\n",
      "LOP140217000200    1\n",
      "LOP141129000076    1\n",
      "LOP140910000072    1\n",
      "LOP140115000923    1\n",
      "LOP141103000900    1\n",
      "LOP140816000579    1\n",
      "Name: Event Number, Length: 187480, dtype: int64\n"
     ]
    }
   ],
   "source": [
    "Event = data.loc[:,'Event Number']\n",
    "print(Event.value_counts())"
   ]
  },
  {
   "cell_type": "code",
   "execution_count": null,
   "metadata": {},
   "outputs": [],
   "source": []
  }
 ],
 "metadata": {
  "kernelspec": {
   "display_name": "Python 3",
   "language": "python",
   "name": "python3"
  },
  "language_info": {
   "codemirror_mode": {
    "name": "ipython",
    "version": 3
   },
   "file_extension": ".py",
   "mimetype": "text/x-python",
   "name": "python",
   "nbconvert_exporter": "python",
   "pygments_lexer": "ipython3",
   "version": "3.6.4"
  }
 },
 "nbformat": 4,
 "nbformat_minor": 2
}
