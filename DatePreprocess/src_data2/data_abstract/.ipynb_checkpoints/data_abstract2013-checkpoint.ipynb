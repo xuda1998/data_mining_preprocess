{
 "cells": [
  {
   "cell_type": "markdown",
   "metadata": {},
   "source": [
    "本文档为数据摘要的分析过程，主要是在oakland-crime-statistics-2011-to-2016数据集上进行数据分析，提取标称属性并计算各聚会的频数，计算数值属性的五数概括和缺失值个数并绘制对应图表"
   ]
  },
  {
   "cell_type": "code",
   "execution_count": 1,
   "metadata": {},
   "outputs": [],
   "source": [
    "import csv\n",
    "import numpy as np\n",
    "import pandas as pd\n",
    "import matplotlib.pyplot as plt"
   ]
  },
  {
   "cell_type": "code",
   "execution_count": 2,
   "metadata": {},
   "outputs": [],
   "source": [
    "data = pd.read_csv(\"..//..//dataset//oakland-crime-statistics-2011-to-2016//records-for-2013.csv\")"
   ]
  },
  {
   "cell_type": "code",
   "execution_count": 3,
   "metadata": {},
   "outputs": [
    {
     "name": "stdout",
     "output_type": "stream",
     "text": [
      "OP    188051\n",
      "Name: Agency, dtype: int64\n"
     ]
    }
   ],
   "source": [
    "agency = data.loc[:,'Agency']\n",
    "print(agency.value_counts())"
   ]
  },
  {
   "cell_type": "code",
   "execution_count": 4,
   "metadata": {},
   "outputs": [
    {
     "name": "stdout",
     "output_type": "stream",
     "text": [
      " INTERNATIONAL BLVD              3647\n",
      " AV&INTERNATIONAL BLVD           3405\n",
      " MACARTHUR BLVD                  3002\n",
      " BROADWAY                        2036\n",
      " FOOTHILL BLVD                   1650\n",
      " TELEGRAPH AV                    1558\n",
      " ST&BROADWAY                     1260\n",
      " ST&TELEGRAPH AV                 1253\n",
      " 7TH ST                          1246\n",
      " AV&MACARTHUR BLVD               1232\n",
      " BANCROFT AV                     1196\n",
      " FRUITVALE AV                    1136\n",
      " SAN PABLO AV                    1048\n",
      " HEGENBERGER RD                  1047\n",
      " HIGH ST                          917\n",
      " 73RD AV                          914\n",
      " ST&MARTIN LUTHER KING JR WY      887\n",
      " AV&FOOTHILL BLVD                 871\n",
      " HARRISON ST                      785\n",
      " WEBSTER ST                       777\n",
      " AV&BANCROFT AV                   770\n",
      " MARKET ST                        755\n",
      " GRAND AV                         731\n",
      " EDGEWATER DR                     695\n",
      " W MACARTHUR BLVD                 673\n",
      " ST&MARKET ST                     667\n",
      " 14TH ST                          662\n",
      " ST&SAN PABLO AV                  658\n",
      " 35TH AV                          641\n",
      " MARTIN LUTHER KING JR WY         623\n",
      "                                 ... \n",
      "23RD UNION ST                       1\n",
      "48TH AV&BROOKDALE AV                1\n",
      "HIGH BUCKEYE AV                     1\n",
      "ENOS 41ST ST                        1\n",
      "AILEEN 16TH ST                      1\n",
      "FLORIDA 8TH ST                      1\n",
      "55TH PLYMOUTH ST                    1\n",
      "98TH MICHIGAN AV                    1\n",
      "67TH 22ND ST&9TH AV                 1\n",
      "15TH 8TH AV                         1\n",
      "17TH ASTER AV                       1\n",
      "BRANN E 9TH ST                      1\n",
      "GLEN TIDEWATER AV                   1\n",
      "BROADWAY&W CARRINGTON ST            1\n",
      "41ST ST&SAN PABLO AV                1\n",
      "FONTAINE E 27TH ST                  1\n",
      "CLARKE OAKDALE AV                   1\n",
      "MACARTHUR MIDVALE AV                1\n",
      "W MCAULEY ST                        1\n",
      "GRASS ADELINE ST                    1\n",
      "102ND PL&MOUNTAIN BLVD              1\n",
      "W ST&MANDELA PKWY                   1\n",
      " FOOHILL BL                         1\n",
      "105TH 7TH AV                        1\n",
      "2ND 10TH ST                         1\n",
      "S ST&HERZOG ST                      1\n",
      "10TH 65TH ST                        1\n",
      "BAY FRUITVALE AV                    1\n",
      "27TH 80TH AV                        1\n",
      " AV&SNOWDOWN AV                     1\n",
      "Name: Location , Length: 36804, dtype: int64\n"
     ]
    }
   ],
   "source": [
    "Location = data.loc[:,'Location ']\n",
    "print(Location.value_counts())"
   ]
  },
  {
   "cell_type": "code",
   "execution_count": 5,
   "metadata": {
    "scrolled": true
   },
   "outputs": [
    {
     "name": "stdout",
     "output_type": "stream",
     "text": [
      "1.0    105216\n",
      "2.0     80578\n",
      "Name: Area Id, dtype: int64\n"
     ]
    }
   ],
   "source": [
    "area = data.loc[:,'Area Id']\n",
    "print(area.value_counts())"
   ]
  },
  {
   "cell_type": "code",
   "execution_count": 6,
   "metadata": {},
   "outputs": [
    {
     "data": {
      "image/png": "[encoded data removed]",
      "text/plain": [
       "<matplotlib.figure.Figure at 0x20ed4956eb8>"
      ]
     },
     "metadata": {},
     "output_type": "display_data"
    }
   ],
   "source": [
    "num = area.value_counts()\n",
    "plt.figure()\n",
    "num.plot(kind='bar')\n",
    "plt.show()"
   ]
  },
  {
   "cell_type": "code",
   "execution_count": 7,
   "metadata": {},
   "outputs": [
    {
     "name": "stdout",
     "output_type": "stream",
     "text": [
      "04X     7697\n",
      "08X     6993\n",
      "30X     5440\n",
      "30Y     5439\n",
      "23X     5279\n",
      "19X     5211\n",
      "26Y     5188\n",
      "34X     5059\n",
      "06X     4786\n",
      "20X     4565\n",
      "29X     4531\n",
      "25X     4530\n",
      "03X     4483\n",
      "07X     4416\n",
      "31Y     4304\n",
      "32X     4194\n",
      "35X     4053\n",
      "27Y     4026\n",
      "21Y     3938\n",
      "09X     3776\n",
      "27X     3774\n",
      "33X     3537\n",
      "02Y     3522\n",
      "12Y     3465\n",
      "32Y     3465\n",
      "22X     3095\n",
      "03Y     2899\n",
      "05X     2896\n",
      "14X     2881\n",
      "26X     2787\n",
      "02X     2713\n",
      "24X     2710\n",
      "10X     2702\n",
      "10Y     2641\n",
      "22Y     2614\n",
      "12X     2576\n",
      "24Y     2571\n",
      "17Y     2564\n",
      "15X     2482\n",
      "13Z     2383\n",
      "31X     2361\n",
      "01X     2309\n",
      "28X     2294\n",
      "21X     2289\n",
      "17X     2091\n",
      "31Z     2047\n",
      "11X     1964\n",
      "35Y     1950\n",
      "13Y     1826\n",
      "18Y     1817\n",
      "14Y     1794\n",
      "16Y     1720\n",
      "25Y     1537\n",
      "18X     1387\n",
      "16X     1255\n",
      "13X     1209\n",
      "05Y      821\n",
      "PDT2      18\n",
      "Name: Beat, dtype: int64\n"
     ]
    }
   ],
   "source": [
    "Beat= data.loc[:,'Beat']\n",
    "print(Beat.value_counts())"
   ]
  },
  {
   "cell_type": "code",
   "execution_count": 8,
   "metadata": {},
   "outputs": [
    {
     "name": "stdout",
     "output_type": "stream",
     "text": [
      "2.0    144859\n",
      "1.0     43171\n",
      "0.0        21\n",
      "Name: Priority, dtype: int64\n"
     ]
    }
   ],
   "source": [
    "Priority= data.loc[:,'Priority']\n",
    "print(Priority.value_counts())"
   ]
  },
  {
   "cell_type": "code",
   "execution_count": 9,
   "metadata": {},
   "outputs": [
    {
     "data": {
      "image/png": "[encoded data removed]",
      "text/plain": [
       "<matplotlib.figure.Figure at 0x20ecf9e0550>"
      ]
     },
     "metadata": {},
     "output_type": "display_data"
    }
   ],
   "source": [
    "num = Priority.value_counts()\n",
    "plt.figure()\n",
    "num.plot(kind='bar')\n",
    "plt.show()"
   ]
  },
  {
   "cell_type": "code",
   "execution_count": 10,
   "metadata": {},
   "outputs": [
    {
     "name": "stdout",
     "output_type": "stream",
     "text": [
      "933R      17859\n",
      "SECCK     12240\n",
      "415       11313\n",
      "10851      9469\n",
      "911H       8268\n",
      "5150       6346\n",
      "242        5642\n",
      "415C       5532\n",
      "912        5149\n",
      "211        4696\n",
      "243E       4330\n",
      "415GS      4119\n",
      "949        3569\n",
      "HAZ        3146\n",
      "WELCK      2844\n",
      "20002      2690\n",
      "245        2408\n",
      "602L       2403\n",
      "901A       2336\n",
      "415TH      2228\n",
      "943        2164\n",
      "459        2111\n",
      "647C       2012\n",
      "CODE7      1960\n",
      "975        1895\n",
      "23103      1873\n",
      "415N       1802\n",
      "601R       1750\n",
      "933MA      1734\n",
      "11500      1648\n",
      "          ...  \n",
      "JGP           4\n",
      "CRSARM        4\n",
      "OTC           4\n",
      "422.6         4\n",
      "529           3\n",
      "518           3\n",
      "WIT           3\n",
      "SEWER         3\n",
      "508           2\n",
      "PHONE         2\n",
      "182           2\n",
      "EBMUD         2\n",
      "11351         2\n",
      "YELALT        1\n",
      "162           1\n",
      "261VIC        1\n",
      "ESCAPE        1\n",
      "626_9         1\n",
      "290           1\n",
      "530           1\n",
      "LPROP         1\n",
      "372           1\n",
      "970A          1\n",
      "626_1         1\n",
      "285           1\n",
      "243A          1\n",
      "243B          1\n",
      "IFS           1\n",
      "209           1\n",
      "148_5A        1\n",
      "Name: Incident Type Id, Length: 253, dtype: int64\n"
     ]
    }
   ],
   "source": [
    "Incident= data.loc[:,'Incident Type Id']\n",
    "print(Incident.value_counts())"
   ]
  },
  {
   "cell_type": "code",
   "execution_count": 11,
   "metadata": {},
   "outputs": [
    {
     "name": "stdout",
     "output_type": "stream",
     "text": [
      "ALARM-RINGER            17859\n",
      "SECURITY CHECK          12240\n",
      "STOLEN VEHICLE           9469\n",
      "911 HANG-UP              8268\n",
      "DISTURBING THE PEACE     6553\n",
      "MENTALLY ILL             6346\n",
      "BATTERY                  5642\n",
      "415 UNKNOWN              5532\n",
      "SUSPICIOUS PERSON        5149\n",
      "ROBBERY                  4696\n",
      "BATTERY ON CO-HABITA     4330\n",
      "415 GUNSHOTS             4119\n",
      "415 FAMILY               3644\n",
      "SUSPICIOUS VEHICLE       3569\n",
      "HAZARDOUS SITUATION/     3146\n",
      "WELFARE CHECK -- CHE     2844\n",
      "HIT & RUN (PROPERTY      2690\n",
      "ASSAULT W/DEADLY WEA     2408\n",
      "TRESPASS:                2403\n",
      "VEHICLE COLLISION-PE     2336\n",
      "415 THREATS              2228\n",
      "FIGHT                    2164\n",
      "BURGLARY                 2111\n",
      "OBSTRUCT PERSON'S MO     2012\n",
      "SUBJECT ARMED WITH W     1960\n",
      "STAND BY AND PRESERV     1895\n",
      "RECKLESS DRIVING         1873\n",
      "DISTURBANCE-NEIGHBOR     1802\n",
      "RUNAWAY                  1750\n",
      "ALARM-MANUALLY ACTIV     1734\n",
      "                        ...  \n",
      "AUTO IMPROPERLY PARK        5\n",
      "HATE CRIME                  4\n",
      "OAKLAND TRAFFIC CODE        4\n",
      "CROSSING ARMS DOWN          4\n",
      "SEWER PROBLEMS              3\n",
      "EXTORTION                   3\n",
      "WITNESS                     3\n",
      "FALSE PERSONATION OF        3\n",
      "CONSPIRACY COURT ORD        2\n",
      "PHONE RPT                   2\n",
      "EASTBAY MUD                 2\n",
      "EMBEZZLEMENT BY AN E        2\n",
      "POSSESSION OR PURCHA        2\n",
      "MAINTAINING PUBLIC N        1\n",
      "LOST PROPERY                1\n",
      "ESCAPEE                     1\n",
      "INSFRASTRUCTURE SECU        1\n",
      "IDENTITY THEFT              1\n",
      "BIG RIG PARKED IN RE        1\n",
      "REQUIRED TO REGISTER        1\n",
      "FALSE REPORT OF CRIM        1\n",
      "FIREARM AT PUBLIC SC        1\n",
      "ASSAULT ON A POLICE         1\n",
      "KIDNAPPING FOR RANSO        1\n",
      "VEHICLE PARKED ON SI        1\n",
      "YELLOW ALERT AT THE         1\n",
      "INCEST                      1\n",
      "ASSSAULT                    1\n",
      "POSSESS WEAPON AT SC        1\n",
      "RAPE VICTIM                 1\n",
      "Name: Incident Type Description, Length: 254, dtype: int64\n"
     ]
    }
   ],
   "source": [
    "Description= data.loc[:,'Incident Type Description']\n",
    "print(Description.value_counts())"
   ]
  },
  {
   "cell_type": "code",
   "execution_count": 12,
   "metadata": {},
   "outputs": [
    {
     "name": "stdout",
     "output_type": "stream",
     "text": [
      "LOP130511000040    1\n",
      "LOP130719000470    1\n",
      "LOP130211000069    1\n",
      "LOP130617000211    1\n",
      "LOP131019000649    1\n",
      "LOP130329000924    1\n",
      "LOP130419001083    1\n",
      "LOP130717000440    1\n",
      "LOP130331000419    1\n",
      "LOP130214000962    1\n",
      "LOP130221000938    1\n",
      "LOP131009000373    1\n",
      "LOP131211001042    1\n",
      "LOP130814000824    1\n",
      "LOP130929000773    1\n",
      "LOP130228000089    1\n",
      "LOP130909000187    1\n",
      "LOP131215000904    1\n",
      "LOP130619000722    1\n",
      "LOP130331000189    1\n",
      "LOP131216000842    1\n",
      "LOP130325000164    1\n",
      "LOP130807000019    1\n",
      "LOP131218000783    1\n",
      "LOP131203000286    1\n",
      "LOP130616000688    1\n",
      "LOP130619000701    1\n",
      "LOP130608000850    1\n",
      "LOP131119000157    1\n",
      "LOP130517000494    1\n",
      "                  ..\n",
      "LOP130613001115    1\n",
      "LOP130125000263    1\n",
      "LOP131006000828    1\n",
      "LOP131008000772    1\n",
      "LOP130717000588    1\n",
      "LOP130907000716    1\n",
      "LOP130105000068    1\n",
      "LOP130408000819    1\n",
      "LOP130107000340    1\n",
      "LOP130823000729    1\n",
      "LOP130507000954    1\n",
      "LOP130323000690    1\n",
      "LOP130119000951    1\n",
      "LOP130614000460    1\n",
      "LOP131112000277    1\n",
      "LOP130417000919    1\n",
      "LOP130107000353    1\n",
      "LOP130820000699    1\n",
      "LOP131115000908    1\n",
      "LOP130701000515    1\n",
      "LOP130305000786    1\n",
      "LOP131101000723    1\n",
      "LOP130111000108    1\n",
      "LOP130310000797    1\n",
      "LOP130321000244    1\n",
      "LOP130725000526    1\n",
      "LOP130824000804    1\n",
      "LOP131127000645    1\n",
      "LOP131111000781    1\n",
      "LOP130104000007    1\n",
      "Name: Event Number, Length: 188051, dtype: int64\n"
     ]
    }
   ],
   "source": [
    "Event = data.loc[:,'Event Number']\n",
    "print(Event.value_counts())"
   ]
  },
  {
   "cell_type": "code",
   "execution_count": null,
   "metadata": {},
   "outputs": [],
   "source": []
  }
 ],
 "metadata": {
  "kernelspec": {
   "display_name": "Python 3",
   "language": "python",
   "name": "python3"
  },
  "language_info": {
   "codemirror_mode": {
    "name": "ipython",
    "version": 3
   },
   "file_extension": ".py",
   "mimetype": "text/x-python",
   "name": "python",
   "nbconvert_exporter": "python",
   "pygments_lexer": "ipython3",
   "version": "3.6.4"
  }
 },
 "nbformat": 4,
 "nbformat_minor": 2
}
