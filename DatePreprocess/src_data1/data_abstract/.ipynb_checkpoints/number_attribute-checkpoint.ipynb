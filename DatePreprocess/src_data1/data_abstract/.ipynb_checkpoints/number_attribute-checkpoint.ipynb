{
 "cells": [
  {
   "cell_type": "code",
   "execution_count": 1,
   "metadata": {},
   "outputs": [],
   "source": [
    "本实验选取了wine-reviews数据集作为实验样本，本文档主要是对该数据集中的数值属性进行分析，计算五数概括和缺失值的个数，并绘制盒图和直方图进行数据的可视化"
   ]
  },
  {
   "cell_type": "code",
   "execution_count": null,
   "metadata": {},
   "outputs": [],
   "source": [
    "import csv\n",
    "import numpy as np\n",
    "import pandas as pd\n",
    "import matplotlib.pyplot as plt"
   ]
  },
  {
   "cell_type": "code",
   "execution_count": 2,
   "metadata": {},
   "outputs": [],
   "source": [
    "#本数据集中包含的数值属性为'points'和'price'\n",
    "data = pd.read_csv(\"../../dataset/wine-reviews/winemag-data_first150k.csv\",usecols=['country','description','designation','points','price','province','region_1','region_2','variety','winery'])"
   ]
  },
  {
   "cell_type": "code",
   "execution_count": 5,
   "metadata": {},
   "outputs": [
    {
     "name": "stdout",
     "output_type": "stream",
     "text": [
      "        points  price\n",
      "0           96  235.0\n",
      "1           96  110.0\n",
      "2           96   90.0\n",
      "3           96   65.0\n",
      "4           95   66.0\n",
      "5           95   73.0\n",
      "6           95   65.0\n",
      "7           95  110.0\n",
      "8           95   65.0\n",
      "9           95   60.0\n",
      "10          95   80.0\n",
      "11          95   48.0\n",
      "12          95   48.0\n",
      "13          95   90.0\n",
      "14          95  185.0\n",
      "15          95   90.0\n",
      "16          95  325.0\n",
      "17          95   80.0\n",
      "18          95  290.0\n",
      "19          95   75.0\n",
      "20          95   24.0\n",
      "21          95   79.0\n",
      "22          95  220.0\n",
      "23          95   60.0\n",
      "24          95   45.0\n",
      "25          94   57.0\n",
      "26          94   62.0\n",
      "27          94  105.0\n",
      "28          94   60.0\n",
      "29          94   60.0\n",
      "...        ...    ...\n",
      "150900      81   13.0\n",
      "150901      81   12.0\n",
      "150902      81   10.0\n",
      "150903      81    7.0\n",
      "150904      81   10.0\n",
      "150905      80   13.0\n",
      "150906      93   65.0\n",
      "150907      92   52.0\n",
      "150908      90   65.0\n",
      "150909      89   52.0\n",
      "150910      89   38.0\n",
      "150911      87   37.0\n",
      "150912      87   65.0\n",
      "150913      94   30.0\n",
      "150914      94   25.0\n",
      "150915      93   30.0\n",
      "150916      93   65.0\n",
      "150917      92   30.0\n",
      "150918      92   38.0\n",
      "150919      91   37.0\n",
      "150920      91   19.0\n",
      "150921      91   38.0\n",
      "150922      91    NaN\n",
      "150923      91   30.0\n",
      "150924      91   70.0\n",
      "150925      91   20.0\n",
      "150926      91   27.0\n",
      "150927      91   20.0\n",
      "150928      90   52.0\n",
      "150929      90   15.0\n",
      "\n",
      "[150930 rows x 2 columns]\n"
     ]
    }
   ],
   "source": [
    "num = data.iloc[:,3:5]\n",
    "print(num)"
   ]
  },
  {
   "cell_type": "code",
   "execution_count": 18,
   "metadata": {},
   "outputs": [
    {
     "data": {
      "text/html": [
       "<div>\n",
       "<style scoped>\n",
       "    .dataframe tbody tr th:only-of-type {\n",
       "        vertical-align: middle;\n",
       "    }\n",
       "\n",
       "    .dataframe tbody tr th {\n",
       "        vertical-align: top;\n",
       "    }\n",
       "\n",
       "    .dataframe thead th {\n",
       "        text-align: right;\n",
       "    }\n",
       "</style>\n",
       "<table border=\"1\" class=\"dataframe\">\n",
       "  <thead>\n",
       "    <tr style=\"text-align: right;\">\n",
       "      <th></th>\n",
       "      <th>points</th>\n",
       "    </tr>\n",
       "  </thead>\n",
       "  <tbody>\n",
       "    <tr>\n",
       "      <th>count</th>\n",
       "      <td>150930.000000</td>\n",
       "    </tr>\n",
       "    <tr>\n",
       "      <th>mean</th>\n",
       "      <td>87.888418</td>\n",
       "    </tr>\n",
       "    <tr>\n",
       "      <th>std</th>\n",
       "      <td>3.222392</td>\n",
       "    </tr>\n",
       "    <tr>\n",
       "      <th>min</th>\n",
       "      <td>80.000000</td>\n",
       "    </tr>\n",
       "    <tr>\n",
       "      <th>25%</th>\n",
       "      <td>86.000000</td>\n",
       "    </tr>\n",
       "    <tr>\n",
       "      <th>50%</th>\n",
       "      <td>88.000000</td>\n",
       "    </tr>\n",
       "    <tr>\n",
       "      <th>75%</th>\n",
       "      <td>90.000000</td>\n",
       "    </tr>\n",
       "    <tr>\n",
       "      <th>max</th>\n",
       "      <td>100.000000</td>\n",
       "    </tr>\n",
       "  </tbody>\n",
       "</table>\n",
       "</div>"
      ],
      "text/plain": [
       "              points\n",
       "count  150930.000000\n",
       "mean       87.888418\n",
       "std         3.222392\n",
       "min        80.000000\n",
       "25%        86.000000\n",
       "50%        88.000000\n",
       "75%        90.000000\n",
       "max       100.000000"
      ]
     },
     "execution_count": 18,
     "metadata": {},
     "output_type": "execute_result"
    }
   ],
   "source": [
    "num1 = data.iloc[:,3:4] #对应的属性为points  \n",
    "num1.describe()         #points属性的总数，均值以及五数概括"
   ]
  },
  {
   "cell_type": "code",
   "execution_count": 19,
   "metadata": {},
   "outputs": [
    {
     "data": {
      "text/plain": [
       "points    0\n",
       "dtype: int64"
      ]
     },
     "execution_count": 19,
     "metadata": {},
     "output_type": "execute_result"
    }
   ],
   "source": [
    "num1.isnull().sum()"
   ]
  },
  {
   "cell_type": "code",
   "execution_count": 15,
   "metadata": {},
   "outputs": [
    {
     "data": {
      "text/plain": [
       "array([[<matplotlib.axes._subplots.AxesSubplot object at 0x0000026E0BFDCBA8>]],\n",
       "      dtype=object)"
      ]
     },
     "execution_count": 15,
     "metadata": {},
     "output_type": "execute_result"
    },
    {
     "data": {
      "image/png": "[encoded data removed]",
      "text/plain": [
       "<matplotlib.figure.Figure at 0x26e0bee5f98>"
      ]
     },
     "metadata": {},
     "output_type": "display_data"
    },
    {
     "data": {
      "image/png": "[encoded data removed]",
      "text/plain": [
       "<matplotlib.figure.Figure at 0x26e0bfcc3c8>"
      ]
     },
     "metadata": {},
     "output_type": "display_data"
    }
   ],
   "source": [
    "num1.boxplot()         #绘制盒图\n",
    "num1.hist(bins = 20)  #绘制直方图"
   ]
  },
  {
   "cell_type": "code",
   "execution_count": 20,
   "metadata": {},
   "outputs": [
    {
     "data": {
      "text/html": [
       "<div>\n",
       "<style scoped>\n",
       "    .dataframe tbody tr th:only-of-type {\n",
       "        vertical-align: middle;\n",
       "    }\n",
       "\n",
       "    .dataframe tbody tr th {\n",
       "        vertical-align: top;\n",
       "    }\n",
       "\n",
       "    .dataframe thead th {\n",
       "        text-align: right;\n",
       "    }\n",
       "</style>\n",
       "<table border=\"1\" class=\"dataframe\">\n",
       "  <thead>\n",
       "    <tr style=\"text-align: right;\">\n",
       "      <th></th>\n",
       "      <th>price</th>\n",
       "    </tr>\n",
       "  </thead>\n",
       "  <tbody>\n",
       "    <tr>\n",
       "      <th>count</th>\n",
       "      <td>137235.000000</td>\n",
       "    </tr>\n",
       "    <tr>\n",
       "      <th>mean</th>\n",
       "      <td>33.131482</td>\n",
       "    </tr>\n",
       "    <tr>\n",
       "      <th>std</th>\n",
       "      <td>36.322536</td>\n",
       "    </tr>\n",
       "    <tr>\n",
       "      <th>min</th>\n",
       "      <td>4.000000</td>\n",
       "    </tr>\n",
       "    <tr>\n",
       "      <th>25%</th>\n",
       "      <td>16.000000</td>\n",
       "    </tr>\n",
       "    <tr>\n",
       "      <th>50%</th>\n",
       "      <td>24.000000</td>\n",
       "    </tr>\n",
       "    <tr>\n",
       "      <th>75%</th>\n",
       "      <td>40.000000</td>\n",
       "    </tr>\n",
       "    <tr>\n",
       "      <th>max</th>\n",
       "      <td>2300.000000</td>\n",
       "    </tr>\n",
       "  </tbody>\n",
       "</table>\n",
       "</div>"
      ],
      "text/plain": [
       "               price\n",
       "count  137235.000000\n",
       "mean       33.131482\n",
       "std        36.322536\n",
       "min         4.000000\n",
       "25%        16.000000\n",
       "50%        24.000000\n",
       "75%        40.000000\n",
       "max      2300.000000"
      ]
     },
     "execution_count": 20,
     "metadata": {},
     "output_type": "execute_result"
    }
   ],
   "source": [
    "num2 = data.iloc[:,4:5] #对应的属性为prices  \n",
    "num2.describe()         #prices属性的总数，均值以及五数概括"
   ]
  },
  {
   "cell_type": "code",
   "execution_count": 21,
   "metadata": {},
   "outputs": [
    {
     "data": {
      "text/plain": [
       "price    13695\n",
       "dtype: int64"
      ]
     },
     "execution_count": 21,
     "metadata": {},
     "output_type": "execute_result"
    }
   ],
   "source": [
    "num2.isnull().sum()"
   ]
  },
  {
   "cell_type": "code",
   "execution_count": 23,
   "metadata": {},
   "outputs": [
    {
     "data": {
      "text/plain": [
       "array([[<matplotlib.axes._subplots.AxesSubplot object at 0x0000026E0C34C4E0>]],\n",
       "      dtype=object)"
      ]
     },
     "execution_count": 23,
     "metadata": {},
     "output_type": "execute_result"
    },
    {
     "data": {
      "image/png": "[encoded data removed]",
      "text/plain": [
       "<matplotlib.figure.Figure at 0x26e0c2855f8>"
      ]
     },
     "metadata": {},
     "output_type": "display_data"
    },
    {
     "data": {
      "image/png": "[encoded data removed]",
      "text/plain": [
       "<matplotlib.figure.Figure at 0x26e0c27de10>"
      ]
     },
     "metadata": {},
     "output_type": "display_data"
    }
   ],
   "source": [
    "num2.boxplot()         #绘制盒图\n",
    "num2.hist(bins = 800)  #绘制直方图"
   ]
  },
  {
   "cell_type": "code",
   "execution_count": null,
   "metadata": {},
   "outputs": [],
   "source": []
  }
 ],
 "metadata": {
  "kernelspec": {
   "display_name": "Python 3",
   "language": "python",
   "name": "python3"
  },
  "language_info": {
   "codemirror_mode": {
    "name": "ipython",
    "version": 3
   },
   "file_extension": ".py",
   "mimetype": "text/x-python",
   "name": "python",
   "nbconvert_exporter": "python",
   "pygments_lexer": "ipython3",
   "version": "3.6.4"
  }
 },
 "nbformat": 4,
 "nbformat_minor": 2
}
