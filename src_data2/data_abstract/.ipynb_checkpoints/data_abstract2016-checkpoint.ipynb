{
 "cells": [
  {
   "cell_type": "markdown",
   "metadata": {},
   "source": [
    "本文档为数据摘要的分析过程，主要是在oakland-crime-statistics-2011-to-2016数据集上进行数据分析，提取标称属性并计算各聚会的频数，计算数值属性的五数概括和缺失值个数并绘制对应图表"
   ]
  },
  {
   "cell_type": "code",
   "execution_count": 1,
   "metadata": {},
   "outputs": [],
   "source": [
    "import csv\n",
    "import numpy as np\n",
    "import pandas as pd\n",
    "import matplotlib.pyplot as plt"
   ]
  },
  {
   "cell_type": "code",
   "execution_count": 2,
   "metadata": {},
   "outputs": [],
   "source": [
    "data = pd.read_csv(\"..//..//dataset//oakland-crime-statistics-2011-to-2016//records-for-2016.csv\")"
   ]
  },
  {
   "cell_type": "code",
   "execution_count": 3,
   "metadata": {},
   "outputs": [
    {
     "name": "stdout",
     "output_type": "stream",
     "text": [
      "OP    110827\n",
      "Name: Agency, dtype: int64\n"
     ]
    }
   ],
   "source": [
    "agency = data.loc[:,'Agency']\n",
    "print(agency.value_counts())"
   ]
  },
  {
   "cell_type": "code",
   "execution_count": 4,
   "metadata": {},
   "outputs": [
    {
     "name": "stdout",
     "output_type": "stream",
     "text": [
      " INTERNATIONAL BLVD                       2156\n",
      " AV&INTERNATIONAL BLVD                    1829\n",
      " MACARTHUR BLVD                           1813\n",
      " BROADWAY                                 1472\n",
      " 7TH ST                                   1223\n",
      " FOOTHILL BLVD                            1052\n",
      " TELEGRAPH AV                              875\n",
      " SAN PABLO AV                              765\n",
      " AV&MACARTHUR BLVD                         737\n",
      " FRUITVALE AV                              709\n",
      " BANCROFT AV                               707\n",
      " ST&BROADWAY                               691\n",
      " HIGH ST                                   678\n",
      " ST&TELEGRAPH AV                           638\n",
      " 73RD AV                                   595\n",
      " HEGENBERGER RD                            591\n",
      " AV&FOOTHILL BLVD                          554\n",
      " LAKESHORE AV                              509\n",
      " WEBSTER ST                                465\n",
      " E 12TH ST                                 455\n",
      " AV&BANCROFT AV                            440\n",
      " HARRISON ST                               436\n",
      " ST&MARKET ST                              427\n",
      " GRAND AV                                  416\n",
      " MARKET ST                                 414\n",
      " 35TH AV                                   408\n",
      " ST&MARTIN LUTHER KING JR WY               401\n",
      " 14TH ST                                   401\n",
      " 34TH ST                                   371\n",
      " ST&SAN PABLO AV                           363\n",
      "                                          ... \n",
      "BOND 58TH AV                                 1\n",
      "MARKET AV&MACARTHUR BLVD                     1\n",
      "HIGH 48TH AV                                 1\n",
      "35TH AV&DOWLING ST                           1\n",
      "WB D ST                                      1\n",
      "NEWTON TUNNEL RD                             1\n",
      "4TH BANCROFT AV                              1\n",
      "HAMILTON 7TH ST                              1\n",
      "E FAVOR ST                                   1\n",
      "SIMMONS 7TH ST                               1\n",
      "8TH GRAND AV&MANDELA PKWY                    1\n",
      "51ST BIRDSALL AV                             1\n",
      "7TH CLARA AV&VALLE VISTA AV                  1\n",
      "14TH HUNTINGTON ST                           1\n",
      "HANOVER SEMINARY AV                          1\n",
      "16TH HOOVER AV                               1\n",
      "18TH SAINT ANDREWS RD                        1\n",
      "18TH WALNUT ST                               1\n",
      "8TH AV&YGNACIO AV                            1\n",
      "COLLEGE VICTORY CT                           1\n",
      "79TH 14TH AV                                 1\n",
      "BROADWAY&EMBARCADERO LOS ANGELES AV          1\n",
      "BARTLETT LAKESHORE AV                        1\n",
      "GRAND 15TH ST&31ST AV                        1\n",
      "5TH SHAFTER AV                               1\n",
      "16TH 27TH AV                                 1\n",
      "ARGYLE EL DORADO AV                          1\n",
      "32ND AV&DOOLITTLE DR                         1\n",
      "MACARTHUR VICKSBURG AV                       1\n",
      "MONTICELLO 17TH ST                           1\n",
      "Name: Location, Length: 24046, dtype: int64\n"
     ]
    }
   ],
   "source": [
    "Location = data.loc[:,'Location']\n",
    "print(Location.value_counts())"
   ]
  },
  {
   "cell_type": "code",
   "execution_count": 5,
   "metadata": {
    "scrolled": true
   },
   "outputs": [
    {
     "name": "stdout",
     "output_type": "stream",
     "text": [
      "P3     47425\n",
      "P1     41419\n",
      "P2     19610\n",
      "POU     2173\n",
      "PCW      194\n",
      "TEC        4\n",
      "WAG        1\n",
      "JLS        1\n",
      "Name: Area Id, dtype: int64\n"
     ]
    }
   ],
   "source": [
    "area = data.loc[:,'Area Id']\n",
    "print(area.value_counts())"
   ]
  },
  {
   "cell_type": "code",
   "execution_count": 6,
   "metadata": {},
   "outputs": [
    {
     "data": {
      "image/png": "[encoded data removed]",
      "text/plain": [
       "<matplotlib.figure.Figure at 0x1db31cfd160>"
      ]
     },
     "metadata": {},
     "output_type": "display_data"
    }
   ],
   "source": [
    "num = area.value_counts()\n",
    "plt.figure()\n",
    "num.plot(kind='bar')\n",
    "plt.show()"
   ]
  },
  {
   "cell_type": "code",
   "execution_count": 7,
   "metadata": {},
   "outputs": [
    {
     "name": "stdout",
     "output_type": "stream",
     "text": [
      "04X     4515\n",
      "08X     3931\n",
      "26Y     3511\n",
      "30Y     3473\n",
      "19X     3455\n",
      "30X     3416\n",
      "03X     3195\n",
      "23X     3076\n",
      "34X     2857\n",
      "07X     2831\n",
      "20X     2702\n",
      "29X     2646\n",
      "06X     2580\n",
      "03Y     2562\n",
      "27Y     2517\n",
      "25X     2467\n",
      "31Y     2460\n",
      "27X     2333\n",
      "35X     2328\n",
      "32X     2316\n",
      "33X     2276\n",
      "09X     2158\n",
      "21Y     2100\n",
      "32Y     2093\n",
      "12Y     1987\n",
      "14X     1832\n",
      "26X     1766\n",
      "02X     1746\n",
      "24X     1704\n",
      "02Y     1659\n",
      "10Y     1573\n",
      "10X     1557\n",
      "22X     1541\n",
      "17Y     1482\n",
      "21X     1479\n",
      "24Y     1454\n",
      "31X     1439\n",
      "22Y     1420\n",
      "13Z     1397\n",
      "15X     1393\n",
      "05X     1342\n",
      "01X     1304\n",
      "12X     1299\n",
      "31Z     1268\n",
      "28X     1261\n",
      "11X     1208\n",
      "35Y     1159\n",
      "18Y     1102\n",
      "14Y     1027\n",
      "17X      969\n",
      "13Y      952\n",
      "16Y      907\n",
      "25Y      739\n",
      "18X      721\n",
      "16X      708\n",
      "13X      630\n",
      "05Y      408\n",
      "PDT2      16\n",
      "Name: Beat, dtype: int64\n"
     ]
    }
   ],
   "source": [
    "Beat= data.loc[:,'Beat']\n",
    "print(Beat.value_counts())"
   ]
  },
  {
   "cell_type": "code",
   "execution_count": 8,
   "metadata": {},
   "outputs": [
    {
     "name": "stdout",
     "output_type": "stream",
     "text": [
      "2.0    86272\n",
      "1.0    24555\n",
      "Name: Priority, dtype: int64\n"
     ]
    }
   ],
   "source": [
    "Priority= data.loc[:,'Priority']\n",
    "print(Priority.value_counts())"
   ]
  },
  {
   "cell_type": "code",
   "execution_count": 9,
   "metadata": {},
   "outputs": [
    {
     "data": {
      "image/png": "[encoded data removed]",
      "text/plain": [
       "<matplotlib.figure.Figure at 0x1db2d6c5940>"
      ]
     },
     "metadata": {},
     "output_type": "display_data"
    }
   ],
   "source": [
    "num = Priority.value_counts()\n",
    "plt.figure()\n",
    "num.plot(kind='bar')\n",
    "plt.show()"
   ]
  },
  {
   "cell_type": "code",
   "execution_count": 10,
   "metadata": {},
   "outputs": [
    {
     "name": "stdout",
     "output_type": "stream",
     "text": [
      "933R      10094\n",
      "415        7883\n",
      "SECCK      7251\n",
      "10851      5308\n",
      "911H       5089\n",
      "5150       4859\n",
      "415C       3701\n",
      "242        3483\n",
      "912        2583\n",
      "949        2504\n",
      "HAZ        2424\n",
      "243E       2310\n",
      "WELCK      2276\n",
      "415GS      2025\n",
      "901A       1730\n",
      "602L       1690\n",
      "211        1592\n",
      "415TH      1458\n",
      "943        1288\n",
      "415N       1287\n",
      "245        1286\n",
      "975        1159\n",
      "415CU      1084\n",
      "20002      1071\n",
      "933MA      1061\n",
      "601R       1024\n",
      "901        1020\n",
      "EVAL       1011\n",
      "CODE7       975\n",
      "597         810\n",
      "          ...  \n",
      "962           3\n",
      "370           3\n",
      "21235V        3\n",
      "243           3\n",
      "203           3\n",
      "148_5A        3\n",
      "529           3\n",
      "182           3\n",
      "626_6         2\n",
      "591           2\n",
      "WIT           2\n",
      "140           2\n",
      "10852         2\n",
      "10801         2\n",
      "503           2\n",
      "SUSPS         2\n",
      "484G          2\n",
      "407           1\n",
      "ABC           1\n",
      "EBMUD         1\n",
      "970A          1\n",
      "487E          1\n",
      "955B          1\n",
      "300WI         1\n",
      "YELALT        1\n",
      "A487          1\n",
      "3211H         1\n",
      "DROWN         1\n",
      "243A          1\n",
      "OTC           1\n",
      "Name: Incident Type Id, Length: 242, dtype: int64\n"
     ]
    }
   ],
   "source": [
    "Incident= data.loc[:,'Incident Type Id']\n",
    "print(Incident.value_counts())"
   ]
  },
  {
   "cell_type": "code",
   "execution_count": 11,
   "metadata": {},
   "outputs": [
    {
     "name": "stdout",
     "output_type": "stream",
     "text": [
      "ALARM-RINGER            10094\n",
      "SECURITY CHECK           7251\n",
      "STOLEN VEHICLE           5308\n",
      "911 HANG-UP              5089\n",
      "MENTALLY ILL             4859\n",
      "DISTURBING THE PEACE     4840\n",
      "415 UNKNOWN              3701\n",
      "BATTERY                  3483\n",
      "SUSPICIOUS PERSON        2583\n",
      "SUSPICIOUS VEHICLE       2504\n",
      "HAZARDOUS SITUATION/     2424\n",
      "415 FAMILY               2380\n",
      "BATTERY ON CO-HABITA     2310\n",
      "WELFARE CHECK -- CHE     2276\n",
      "415 GUNSHOTS             2025\n",
      "VEHICLE COLLISION-PE     1730\n",
      "TRESPASS:                1690\n",
      "ROBBERY                  1592\n",
      "415 THREATS              1458\n",
      "FIGHT                    1288\n",
      "DISTURBANCE-NEIGHBOR     1287\n",
      "ASSAULT W/DEADLY WEA     1286\n",
      "STAND BY AND PRESERV     1159\n",
      "DISTURBANCE-CUSTOMER     1084\n",
      "HIT & RUN (PROPERTY      1071\n",
      "ALARM-MANUALLY ACTIV     1061\n",
      "RUNAWAY                  1024\n",
      "EVALUATION               1011\n",
      "SUBJECT ARMED WITH W      975\n",
      "VEHICLE COLLISION/PR      882\n",
      "                        ...  \n",
      "AGGRAVATED ASSAULT          3\n",
      "FALSE REPORT OF CRIM        3\n",
      "CONSPIRACY COURT ORD        3\n",
      "MEET WITH THE CITIZE        3\n",
      "POSSESSION OR PURCHA        3\n",
      "PUBLIC NUISANCE             3\n",
      "FALSE PERSONATION OF        3\n",
      "SCOOTERS INVOLVED IN        3\n",
      "NONSTUDENT REFUSE TO        2\n",
      "VEHICLE TAMPERING           2\n",
      "INJURE TELEPHONE/POW        2\n",
      "CHOP SHOP OWNERSHIP/        2\n",
      "FRAUDULENT USE OF AC        2\n",
      "SUSPECTS                    2\n",
      "EMBEZZLEMENT                2\n",
      "WITNESS                     2\n",
      "THREATEN WITNESS/VIC        2\n",
      "CHILD TAKEN INTO PRO        1\n",
      "ASSSAULT                    1\n",
      "EASTBAY MUD                 1\n",
      "ALCOHOL,BEVERAGE AND        1\n",
      "YELLOW ALERT AT THE         1\n",
      "7 DIGIT EMERGENCY LI        1\n",
      "GRAND THEFT: DOG            1\n",
      "BARKING DOG                 1\n",
      "OAKLAND TRAFFIC CODE        1\n",
      "UNLAWFUL ASSEMBLY           1\n",
      "ATTEMPTED GRAND THEF        1\n",
      "DROWNING                    1\n",
      "VEHICLE PARKED ON SI        1\n",
      "Name: Incident Type Description, Length: 245, dtype: int64\n"
     ]
    }
   ],
   "source": [
    "Description= data.loc[:,'Incident Type Description']\n",
    "print(Description.value_counts())"
   ]
  },
  {
   "cell_type": "code",
   "execution_count": 12,
   "metadata": {},
   "outputs": [
    {
     "name": "stdout",
     "output_type": "stream",
     "text": [
      "LOP160118000305    1\n",
      "LOP160624000425    1\n",
      "LOP160225000882    1\n",
      "LOP160625000700    1\n",
      "LOP160522000176    1\n",
      "LOP160529000593    1\n",
      "LOP160605000728    1\n",
      "LOP160303001106    1\n",
      "LOP160630000668    1\n",
      "LOP160204000301    1\n",
      "LOP160212000467    1\n",
      "LOP160630000451    1\n",
      "LOP160501000507    1\n",
      "LOP160626000461    1\n",
      "LOP160429001086    1\n",
      "LOP160306000731    1\n",
      "LOP160714000209    1\n",
      "LOP160301000213    1\n",
      "LOP160718000734    1\n",
      "LOP160201000660    1\n",
      "LOP160617000906    1\n",
      "LOP160702000870    1\n",
      "LOP160128000182    1\n",
      "LOP160627000076    1\n",
      "LOP160511000842    1\n",
      "LOP160620000145    1\n",
      "LOP160118000274    1\n",
      "LOP160716000007    1\n",
      "LOP160722000115    1\n",
      "LOP160310000517    1\n",
      "                  ..\n",
      "LOP160715000606    1\n",
      "LOP160531000152    1\n",
      "LOP160220000656    1\n",
      "LOP160214000785    1\n",
      "LOP160206000136    1\n",
      "LOP160426000063    1\n",
      "LOP160408000851    1\n",
      "LOP160605000895    1\n",
      "LOP160413000380    1\n",
      "LOP160611000045    1\n",
      "LOP160714000717    1\n",
      "LOP160505000793    1\n",
      "LOP160526001006    1\n",
      "LOP160110000316    1\n",
      "LOP160330000041    1\n",
      "LOP160226000807    1\n",
      "LOP160414000071    1\n",
      "LOP160319000823    1\n",
      "LOP160601001004    1\n",
      "LOP160504000062    1\n",
      "LOP160425000947    1\n",
      "LOP160526000320    1\n",
      "LOP160123000426    1\n",
      "LOP160715000472    1\n",
      "LOP160410000377    1\n",
      "LOP160408000799    1\n",
      "LOP160709000566    1\n",
      "LOP160711000393    1\n",
      "LOP160720000599    1\n",
      "LOP160114000974    1\n",
      "Name: Event Number, Length: 110827, dtype: int64\n"
     ]
    }
   ],
   "source": [
    "Event = data.loc[:,'Event Number']\n",
    "print(Event.value_counts())"
   ]
  },
  {
   "cell_type": "code",
   "execution_count": null,
   "metadata": {},
   "outputs": [],
   "source": []
  }
 ],
 "metadata": {
  "kernelspec": {
   "display_name": "Python 3",
   "language": "python",
   "name": "python3"
  },
  "language_info": {
   "codemirror_mode": {
    "name": "ipython",
    "version": 3
   },
   "file_extension": ".py",
   "mimetype": "text/x-python",
   "name": "python",
   "nbconvert_exporter": "python",
   "pygments_lexer": "ipython3",
   "version": "3.6.4"
  }
 },
 "nbformat": 4,
 "nbformat_minor": 2
}
