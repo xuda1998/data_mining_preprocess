{
 "cells": [
  {
   "cell_type": "markdown",
   "metadata": {},
   "source": [
    "本文档为数据摘要的分析过程，主要是在oakland-crime-statistics-2011-to-2016数据集上进行数据分析，提取标称属性并计算各聚会的频数，计算数值属性的五数概括和缺失值个数并绘制对应图表"
   ]
  },
  {
   "cell_type": "code",
   "execution_count": 1,
   "metadata": {},
   "outputs": [],
   "source": [
    "import csv\n",
    "import numpy as np\n",
    "import pandas as pd\n",
    "import matplotlib.pyplot as plt"
   ]
  },
  {
   "cell_type": "code",
   "execution_count": 2,
   "metadata": {},
   "outputs": [],
   "source": [
    "data = pd.read_csv(\"..//..//dataset//oakland-crime-statistics-2011-to-2016//records-for-2011.csv\")"
   ]
  },
  {
   "cell_type": "code",
   "execution_count": 3,
   "metadata": {},
   "outputs": [
    {
     "name": "stdout",
     "output_type": "stream",
     "text": [
      "OP    180015\n",
      "Name: Agency, dtype: int64\n"
     ]
    }
   ],
   "source": [
    "agency = data.loc[:,'Agency']\n",
    "print(agency.value_counts())"
   ]
  },
  {
   "cell_type": "code",
   "execution_count": 4,
   "metadata": {},
   "outputs": [
    {
     "name": "stdout",
     "output_type": "stream",
     "text": [
      " INTERNATIONAL BLVD               3866\n",
      " MACARTHUR BLVD                   3129\n",
      " AV&INTERNATIONAL BLVD            3067\n",
      " BROADWAY                         2132\n",
      " FOOTHILL BLVD                    1791\n",
      " TELEGRAPH AV                     1584\n",
      " BANCROFT AV                      1319\n",
      " SAN PABLO AV                     1272\n",
      " FRUITVALE AV                     1141\n",
      " 7TH ST                           1093\n",
      " AV&MACARTHUR BLVD                1063\n",
      " ST&BROADWAY                      1025\n",
      " HEGENBERGER RD                   1024\n",
      " HARRISON ST                       990\n",
      " HIGH ST                           987\n",
      " ST&TELEGRAPH AV                   984\n",
      " 73RD AV                           976\n",
      " MARKET ST                         840\n",
      " 14TH ST                           824\n",
      " AV&FOOTHILL BLVD                  761\n",
      " WEBSTER ST                        680\n",
      " W MACARTHUR BLVD                  668\n",
      " AV&BANCROFT AV                    667\n",
      " ST&MARTIN LUTHER KING             666\n",
      " ST&SAN PABLO AV                   664\n",
      " E 18TH ST                         662\n",
      " MARTIN LUTHER KING                626\n",
      " E 12TH ST                         616\n",
      " ST&MARKET ST                      614\n",
      " EDGEWATER DR                      611\n",
      "                                  ... \n",
      "MAURITANIA HOLMES AV                 1\n",
      "BROADWAY&W ST&MILES AV               1\n",
      "5TH WALNUT ST                        1\n",
      "105TH RACINE ST                      1\n",
      "MEDAU HOLLY ST                       1\n",
      "11TH 44TH ST                         1\n",
      "BOOKER BLVD&SEMINARY AV              1\n",
      "BENEVIDES HAWTHORNE AV               1\n",
      "FRYE GRAND AV                        1\n",
      "BROADWAY&W INTERNATIONAL BLVD        1\n",
      "52ND MCANDREW DR                     1\n",
      "21ST DRAKE DR                        1\n",
      "ELLITA BROADWAY                      1\n",
      "ATLAS E 28TH ST                      1\n",
      "FAIRMOUNT BROADWAY TER               1\n",
      "50TH 26TH AV                         1\n",
      "37TH AV&E ST                         1\n",
      "72ND ST&HARRISON ST                  1\n",
      "34TH ARLINGTON AV                    1\n",
      "EDGEWATER CLAY ST                    1\n",
      "MARTIN WOODCLIFF CT                  1\n",
      "8TH RD&SB I880                       1\n",
      "42ND BEST AV                         1\n",
      "8TH OAKDALE AV                       1\n",
      "45TH 25TH ST                         1\n",
      "60TH BLVD&SEMINARY AV                1\n",
      "LINCOLN ST&MAPLE AV                  1\n",
      "53RD BROCKHURST ST                   1\n",
      "60TH MEADOW ST                       1\n",
      "51ST AV&HARPER ST                    1\n",
      "Name: Location, Length: 32505, dtype: int64\n"
     ]
    }
   ],
   "source": [
    "Location = data.loc[:,'Location']\n",
    "print(Location.value_counts())"
   ]
  },
  {
   "cell_type": "code",
   "execution_count": 5,
   "metadata": {
    "scrolled": true
   },
   "outputs": [
    {
     "name": "stdout",
     "output_type": "stream",
     "text": [
      "1.0    79152\n",
      "2.0    67261\n",
      "3.0    32699\n",
      "Name: Area Id, dtype: int64\n"
     ]
    }
   ],
   "source": [
    "area = data.loc[:,'Area Id']\n",
    "print(area.value_counts())"
   ]
  },
  {
   "cell_type": "code",
   "execution_count": 14,
   "metadata": {},
   "outputs": [
    {
     "data": {
      "image/png": "[encoded data removed]",
      "text/plain": [
       "<matplotlib.figure.Figure at 0x1b5a021ff98>"
      ]
     },
     "metadata": {},
     "output_type": "display_data"
    }
   ],
   "source": [
    "num = area.value_counts()\n",
    "plt.figure()\n",
    "num.plot(kind='bar')\n",
    "plt.show()"
   ]
  },
  {
   "cell_type": "code",
   "execution_count": 6,
   "metadata": {},
   "outputs": [
    {
     "name": "stdout",
     "output_type": "stream",
     "text": [
      "04X     7410\n",
      "08X     6885\n",
      "26Y     5478\n",
      "30Y     5295\n",
      "06X     5119\n",
      "23X     5051\n",
      "30X     4956\n",
      "19X     4955\n",
      "34X     4673\n",
      "29X     4483\n",
      "20X     4287\n",
      "27Y     4159\n",
      "07X     4134\n",
      "31Y     4082\n",
      "25X     4022\n",
      "35X     3880\n",
      "33X     3849\n",
      "03X     3819\n",
      "32X     3711\n",
      "27X     3703\n",
      "09X     3630\n",
      "21Y     3435\n",
      "32Y     3125\n",
      "22X     3061\n",
      "26X     2978\n",
      "02Y     2970\n",
      "10X     2967\n",
      "14X     2733\n",
      "03Y     2726\n",
      "22Y     2664\n",
      "12Y     2651\n",
      "05X     2633\n",
      "02X     2614\n",
      "31X     2603\n",
      "21X     2593\n",
      "17Y     2582\n",
      "24Y     2575\n",
      "13Z     2546\n",
      "15X     2509\n",
      "24X     2459\n",
      "12X     2422\n",
      "10Y     2383\n",
      "01X     2210\n",
      "28X     2191\n",
      "17X     2133\n",
      "11X     2087\n",
      "13Y     2017\n",
      "35Y     1956\n",
      "31Z     1870\n",
      "18Y     1778\n",
      "16Y     1561\n",
      "14Y     1492\n",
      "25Y     1482\n",
      "13X     1122\n",
      "18X     1063\n",
      "16X      994\n",
      "05Y      710\n",
      "PDT2      20\n",
      "Name: Beat, dtype: int64\n"
     ]
    }
   ],
   "source": [
    "Beat= data.loc[:,'Beat']\n",
    "print(Beat.value_counts())"
   ]
  },
  {
   "cell_type": "code",
   "execution_count": 7,
   "metadata": {},
   "outputs": [
    {
     "name": "stdout",
     "output_type": "stream",
     "text": [
      "2.0    143314\n",
      "1.0     36699\n",
      "0.0         2\n",
      "Name: Priority, dtype: int64\n"
     ]
    }
   ],
   "source": [
    "Priority= data.loc[:,'Priority']\n",
    "print(Priority.value_counts())"
   ]
  },
  {
   "cell_type": "code",
   "execution_count": 12,
   "metadata": {},
   "outputs": [
    {
     "data": {
      "image/png": "[encoded data removed]",
      "text/plain": [
       "<matplotlib.figure.Figure at 0x1b5a5069a90>"
      ]
     },
     "metadata": {},
     "output_type": "display_data"
    }
   ],
   "source": [
    "num = Priority.value_counts()\n",
    "plt.figure()\n",
    "num.plot(kind='bar')\n",
    "plt.show()"
   ]
  },
  {
   "cell_type": "code",
   "execution_count": 9,
   "metadata": {},
   "outputs": [
    {
     "name": "stdout",
     "output_type": "stream",
     "text": [
      "933R      17348\n",
      "911H      12817\n",
      "SECCK     11393\n",
      "415       10752\n",
      "10851      7180\n",
      "415C       6624\n",
      "5150       5031\n",
      "242        4636\n",
      "912        4282\n",
      "243E       4051\n",
      "415GS      3939\n",
      "949        3346\n",
      "211        3148\n",
      "HAZ        3068\n",
      "602L       2791\n",
      "WELCK      2513\n",
      "11500      2509\n",
      "245        2373\n",
      "20002      2233\n",
      "943        2081\n",
      "901A       2075\n",
      "647C       2064\n",
      "415TH      1983\n",
      "601R       1901\n",
      "459        1883\n",
      "CODE7      1874\n",
      "975        1834\n",
      "933SA      1824\n",
      "415N       1603\n",
      "23103      1602\n",
      "          ...  \n",
      "10852         2\n",
      "166_4         2\n",
      "475           2\n",
      "653M          2\n",
      "IFS           2\n",
      "107           2\n",
      "SUSPS         2\n",
      "530           2\n",
      "487E          2\n",
      "140           1\n",
      "243C          1\n",
      "12020         1\n",
      "518           1\n",
      "970A          1\n",
      "PGE           1\n",
      "243B          1\n",
      "346           1\n",
      "182           1\n",
      "TARA          1\n",
      "10801         1\n",
      "593           1\n",
      "666           1\n",
      "963           1\n",
      "MTHLAB        1\n",
      "LKOUT         1\n",
      "148           1\n",
      "FLOOD         1\n",
      "YELALT        1\n",
      "148_1         1\n",
      "591           1\n",
      "Name: Incident Type Id, Length: 263, dtype: int64\n"
     ]
    }
   ],
   "source": [
    "Incident= data.loc[:,'Incident Type Id']\n",
    "print(Incident.value_counts())"
   ]
  },
  {
   "cell_type": "code",
   "execution_count": 10,
   "metadata": {},
   "outputs": [
    {
     "name": "stdout",
     "output_type": "stream",
     "text": [
      "ALARM-RINGER            17348\n",
      "911 HANG-UP             12817\n",
      "SECURITY CHECK          11393\n",
      "STOLEN VEHICLE           7180\n",
      "415 UNKNOWN              6624\n",
      "DISTURBING THE PEACE     5843\n",
      "MENTALLY ILL             5031\n",
      "BATTERY                  4636\n",
      "SUSPICIOUS PERSON        4282\n",
      "BATTERY ON CO-HABITA     4051\n",
      "415 GUNSHOTS             3939\n",
      "415 FAMILY               3595\n",
      "SUSPICIOUS VEHICLE       3346\n",
      "ROBBERY                  3148\n",
      "HAZARDOUS SITUATION/     3068\n",
      "TRESPASS:                2791\n",
      "WELFARE CHECK -- CHE     2513\n",
      "DRUG DEALING             2509\n",
      "ASSAULT W/DEADLY WEA     2373\n",
      "HIT & RUN (PROPERTY      2233\n",
      "FIGHT                    2081\n",
      "VEHICLE COLLISION-PE     2075\n",
      "OBSTRUCT PERSON'S MO     2064\n",
      "415 THREATS              1983\n",
      "RUNAWAY                  1901\n",
      "BURGLARY                 1883\n",
      "SUBJECT ARMED WITH W     1874\n",
      "STAND BY AND PRESERV     1834\n",
      "ALARM-SCHOOL ALARM       1824\n",
      "DISTURBANCE-NEIGHBOR     1603\n",
      "                        ...  \n",
      "POSSESS FORGED NOTES        2\n",
      "CONTEMPT OF COURT/DI        2\n",
      "ANNOYING TELEPHONE C        2\n",
      "SURRENDER OF GUN OR         2\n",
      "RED ALERT-AIRPLANE I        2\n",
      "GRAND THEFT: DOG            2\n",
      "IDENTITY THEFT              2\n",
      "SPOUSAL RAPE                2\n",
      "ESCAPE DETENTION            2\n",
      "INJURE TELEPHONE/POW        1\n",
      "PACIFIC GAS AND ELEC        1\n",
      "TICKET SCALPING             1\n",
      "PETTY THEFT W/PRIORS        1\n",
      "OBSTRUCTING JUSTICE-        1\n",
      "AGGRAVATED ASSAULT O        1\n",
      "THREATEN WITNESS/VIC        1\n",
      "CONSPIRACY COURT ORD        1\n",
      "YELLOW ALERT AT THE         1\n",
      "EXTORTION                   1\n",
      "PLAYING BALL IN STRE        1\n",
      "FLOOD                       1\n",
      "TARASOFF                    1\n",
      "CHOP SHOP OWNERSHIP/        1\n",
      "METHLAB                     1\n",
      "ASSAULT ON A POLICE         1\n",
      "FALSE BOMB REPORT TO        1\n",
      "LOCKOUT                     1\n",
      "POSSESSION/MANUFACTU        1\n",
      "VEHICLE PARKED ON SI        1\n",
      "INTERFERE WITH POWER        1\n",
      "Name: Incident Type Description, Length: 265, dtype: int64\n"
     ]
    }
   ],
   "source": [
    "Description= data.loc[:,'Incident Type Description']\n",
    "print(Description.value_counts())"
   ]
  },
  {
   "cell_type": "code",
   "execution_count": 11,
   "metadata": {},
   "outputs": [
    {
     "name": "stdout",
     "output_type": "stream",
     "text": [
      "LOP111203000651    1\n",
      "LOP111007000239    1\n",
      "LOP110929000605    1\n",
      "LOP110812000334    1\n",
      "LOP110708000809    1\n",
      "LOP110731000451    1\n",
      "LOP111223000138    1\n",
      "LOP110529000157    1\n",
      "LOP111003000923    1\n",
      "LOP110815000554    1\n",
      "LOP110311000911    1\n",
      "LOP110131000812    1\n",
      "LOP110106000113    1\n",
      "LOP110222000633    1\n",
      "LOP110228000120    1\n",
      "LOP110907000469    1\n",
      "LOP110913000700    1\n",
      "LOP110821000649    1\n",
      "LOP110528000502    1\n",
      "LOP110327000820    1\n",
      "LOP111228000655    1\n",
      "LOP110906000136    1\n",
      "LOP110703000831    1\n",
      "LOP111021000948    1\n",
      "LOP110725000882    1\n",
      "LOP110208000715    1\n",
      "LOP110706000688    1\n",
      "LOP110727000595    1\n",
      "LOP110311000736    1\n",
      "LOP110529000039    1\n",
      "                  ..\n",
      "LOP110920000952    1\n",
      "LOP111203000841    1\n",
      "LOP110529000683    1\n",
      "LOP110225000608    1\n",
      "LOP111209000767    1\n",
      "LOP110304000741    1\n",
      "LOP111016000091    1\n",
      "LOP110919000184    1\n",
      "LOP111020000730    1\n",
      "LOP111003000479    1\n",
      "LOP111202000959    1\n",
      "LOP110318000685    1\n",
      "LOP110820000960    1\n",
      "LOP110125001140    1\n",
      "LOP110505000275    1\n",
      "LOP110310000842    1\n",
      "LOP110125001029    1\n",
      "LOP111012000991    1\n",
      "LOP111015000405    1\n",
      "LOP110112000024    1\n",
      "LOP110722000038    1\n",
      "LOP111103000862    1\n",
      "LOP110912000429    1\n",
      "LOP110301000289    1\n",
      "LOP111221000515    1\n",
      "LOP110413000856    1\n",
      "LOP111005000108    1\n",
      "LOP110421000873    1\n",
      "LOP110630001120    1\n",
      "LOP110915001020    1\n",
      "Name: Event Number, Length: 180015, dtype: int64\n"
     ]
    }
   ],
   "source": [
    "Event = data.loc[:,'Event Number']\n",
    "print(Event.value_counts())"
   ]
  },
  {
   "cell_type": "code",
   "execution_count": null,
   "metadata": {},
   "outputs": [],
   "source": []
  }
 ],
 "metadata": {
  "kernelspec": {
   "display_name": "Python 3",
   "language": "python",
   "name": "python3"
  },
  "language_info": {
   "codemirror_mode": {
    "name": "ipython",
    "version": 3
   },
   "file_extension": ".py",
   "mimetype": "text/x-python",
   "name": "python",
   "nbconvert_exporter": "python",
   "pygments_lexer": "ipython3",
   "version": "3.6.4"
  }
 },
 "nbformat": 4,
 "nbformat_minor": 2
}
