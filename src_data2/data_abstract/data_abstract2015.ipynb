{
 "cells": [
  {
   "cell_type": "markdown",
   "metadata": {},
   "source": [
    "本文档为数据摘要的分析过程，主要是在oakland-crime-statistics-2011-to-2016数据集上进行数据分析，提取标称属性并计算各聚会的频数，计算数值属性的五数概括和缺失值个数并绘制对应图表"
   ]
  },
  {
   "cell_type": "code",
   "execution_count": 1,
   "metadata": {},
   "outputs": [],
   "source": [
    "import csv\n",
    "import numpy as np\n",
    "import pandas as pd\n",
    "import matplotlib.pyplot as plt"
   ]
  },
  {
   "cell_type": "code",
   "execution_count": 2,
   "metadata": {},
   "outputs": [],
   "source": [
    "data = pd.read_csv(\"..//..//dataset//oakland-crime-statistics-2011-to-2016//records-for-2015.csv\")"
   ]
  },
  {
   "cell_type": "code",
   "execution_count": 3,
   "metadata": {},
   "outputs": [
    {
     "name": "stdout",
     "output_type": "stream",
     "text": [
      "OP    192581\n",
      "Name: Agency, dtype: int64\n"
     ]
    }
   ],
   "source": [
    "agency = data.loc[:,'Agency']\n",
    "print(agency.value_counts())"
   ]
  },
  {
   "cell_type": "code",
   "execution_count": 4,
   "metadata": {},
   "outputs": [
    {
     "name": "stdout",
     "output_type": "stream",
     "text": [
      " INTERNATIONAL BLVD                              3695\n",
      " AV&INTERNATIONAL BLVD                           3106\n",
      " MACARTHUR BLVD                                  3105\n",
      " BROADWAY                                        2407\n",
      " FOOTHILL BLVD                                   1753\n",
      " 7TH ST                                          1569\n",
      " TELEGRAPH AV                                    1507\n",
      " FRUITVALE AV                                    1354\n",
      " AV&MACARTHUR BLVD                               1336\n",
      " ST&BROADWAY                                     1264\n",
      " ST&TELEGRAPH AV                                 1243\n",
      " BANCROFT AV                                     1210\n",
      " SAN PABLO AV                                    1195\n",
      " HIGH ST                                         1054\n",
      " HEGENBERGER RD                                  1038\n",
      " ST&MARTIN LUTHER KING JR WY                      971\n",
      " 73RD AV                                          934\n",
      " AV&BANCROFT AV                                   885\n",
      " ST&MARKET ST                                     884\n",
      " WEBSTER ST                                       806\n",
      " HARRISON ST                                      805\n",
      " LAKESHORE AV                                     795\n",
      " AV&FOOTHILL BLVD                                 780\n",
      " ST&SAN PABLO AV                                  760\n",
      " GRAND AV                                         728\n",
      " EDGEWATER DR                                     725\n",
      " 14TH ST                                          719\n",
      " E 12TH ST                                        708\n",
      " MARKET ST                                        707\n",
      " COLLEGE AV                                       675\n",
      "                                                 ... \n",
      "73RD E 17TH ST                                      1\n",
      "ADELINE 92ND AV                                     1\n",
      "39TH ST&MARKET ST                                   1\n",
      "26TH GOLF LINKS RD                                  1\n",
      "GRAND MACARTHUR BLVD&MARTIN LUTHER KING JR WY       1\n",
      "79TH ACALANES DR                                    1\n",
      "39TH 27TH ST&INYO AV                                1\n",
      "62ND 28TH AV                                        1\n",
      "BODEN AV&BYRON AV                                   1\n",
      "FRUITVALE 27TH ST                                   1\n",
      "E LINK ST                                           1\n",
      "25TH EMBARCADERO COVE                               1\n",
      "45TH BONA ST                                        1\n",
      "88TH E 27TH ST                                      1\n",
      "BROADWAY 75TH AV                                    1\n",
      "90TH ST&HARRISON ST                                 1\n",
      "BALMORAL 17TH ST&28TH AV                            1\n",
      " WYMAN PL                                           1\n",
      "27TH ST&PATTERSON AV                                1\n",
      "SAN E 29TH ST                                       1\n",
      "30TH ST&WOOD ST                                     1\n",
      "65TH JACKSON ST                                     1\n",
      "40TH KOFORD RD                                      1\n",
      "ENOS HIGH OFFRP ST&NB I880                          1\n",
      "81ST MERRILL AV                                     1\n",
      "26TH E 21ST ST                                      1\n",
      "ALTAMONT 14TH ST                                    1\n",
      " HILLSIDE AVE                                       1\n",
      "80TH DOVER ST                                       1\n",
      "48TH FERN ST                                        1\n",
      "Name: Location, Length: 36515, dtype: int64\n"
     ]
    }
   ],
   "source": [
    "Location = data.loc[:,'Location']\n",
    "print(Location.value_counts())"
   ]
  },
  {
   "cell_type": "code",
   "execution_count": 5,
   "metadata": {
    "scrolled": true
   },
   "outputs": [
    {
     "name": "stdout",
     "output_type": "stream",
     "text": [
      "P3     81629\n",
      "P1     73141\n",
      "P2     33423\n",
      "POU     3787\n",
      "PCW      595\n",
      "TEC        6\n",
      "Name: Area Id, dtype: int64\n"
     ]
    }
   ],
   "source": [
    "area = data.loc[:,'Area Id']\n",
    "print(area.value_counts())"
   ]
  },
  {
   "cell_type": "code",
   "execution_count": 6,
   "metadata": {},
   "outputs": [
    {
     "data": {
      "image/png": "[encoded data removed]",
      "text/plain": [
       "<matplotlib.figure.Figure at 0x299858b37f0>"
      ]
     },
     "metadata": {},
     "output_type": "display_data"
    }
   ],
   "source": [
    "num = area.value_counts()\n",
    "plt.figure()\n",
    "num.plot(kind='bar')\n",
    "plt.show()"
   ]
  },
  {
   "cell_type": "code",
   "execution_count": 7,
   "metadata": {},
   "outputs": [
    {
     "name": "stdout",
     "output_type": "stream",
     "text": [
      "04X     8048\n",
      "08X     6874\n",
      "30Y     5690\n",
      "19X     5564\n",
      "30X     5542\n",
      "23X     5492\n",
      "26Y     5449\n",
      "34X     5172\n",
      "06X     5056\n",
      "03X     4983\n",
      "07X     4910\n",
      "29X     4599\n",
      "31Y     4556\n",
      "25X     4409\n",
      "35X     4287\n",
      "20X     4284\n",
      "27Y     4242\n",
      "32X     3940\n",
      "27X     3899\n",
      "12Y     3868\n",
      "09X     3831\n",
      "33X     3790\n",
      "21Y     3574\n",
      "03Y     3512\n",
      "32Y     3456\n",
      "14X     3290\n",
      "02Y     3290\n",
      "22X     3207\n",
      "10Y     2937\n",
      "26X     2802\n",
      "24X     2733\n",
      "10X     2705\n",
      "28X     2579\n",
      "24Y     2558\n",
      "13Z     2555\n",
      "01X     2552\n",
      "17Y     2551\n",
      "31X     2535\n",
      "12X     2516\n",
      "02X     2515\n",
      "21X     2511\n",
      "05X     2464\n",
      "22Y     2456\n",
      "15X     2437\n",
      "35Y     2293\n",
      "11X     2186\n",
      "31Z     2127\n",
      "14Y     1920\n",
      "17X     1776\n",
      "13Y     1734\n",
      "18Y     1604\n",
      "16Y     1577\n",
      "25Y     1406\n",
      "18X     1263\n",
      "16X     1223\n",
      "13X     1117\n",
      "05Y      775\n",
      "PDT2      35\n",
      "Name: Beat, dtype: int64\n"
     ]
    }
   ],
   "source": [
    "Beat= data.loc[:,'Beat']\n",
    "print(Beat.value_counts())"
   ]
  },
  {
   "cell_type": "code",
   "execution_count": 8,
   "metadata": {},
   "outputs": [
    {
     "name": "stdout",
     "output_type": "stream",
     "text": [
      "2    150162\n",
      "1     42418\n",
      "0         1\n",
      "Name: Priority, dtype: int64\n"
     ]
    }
   ],
   "source": [
    "Priority= data.loc[:,'Priority']\n",
    "print(Priority.value_counts())"
   ]
  },
  {
   "cell_type": "code",
   "execution_count": 9,
   "metadata": {},
   "outputs": [
    {
     "data": {
      "image/png": "[encoded data removed]",
      "text/plain": [
       "<matplotlib.figure.Figure at 0x299804addd8>"
      ]
     },
     "metadata": {},
     "output_type": "display_data"
    }
   ],
   "source": [
    "num = Priority.value_counts()\n",
    "plt.figure()\n",
    "num.plot(kind='bar')\n",
    "plt.show()"
   ]
  },
  {
   "cell_type": "code",
   "execution_count": 10,
   "metadata": {},
   "outputs": [
    {
     "name": "stdout",
     "output_type": "stream",
     "text": [
      "933R      18181\n",
      "SECCK     14809\n",
      "415       13677\n",
      "10851      8899\n",
      "911H       8529\n",
      "5150       8465\n",
      "242        5960\n",
      "415C       5607\n",
      "912        5211\n",
      "949        4476\n",
      "243E       4295\n",
      "HAZ        3813\n",
      "WELCK      3591\n",
      "415GS      3388\n",
      "602L       2998\n",
      "211        2926\n",
      "901A       2824\n",
      "415TH      2487\n",
      "943        2176\n",
      "415N       2146\n",
      "245        2113\n",
      "975        1945\n",
      "CODE7      1832\n",
      "20002      1807\n",
      "933MA      1753\n",
      "415CU      1667\n",
      "901        1642\n",
      "601R       1546\n",
      "597        1482\n",
      "459AU      1472\n",
      "          ...  \n",
      "261VIC        2\n",
      "4390          2\n",
      "23110A        2\n",
      "VINVER        2\n",
      "529           2\n",
      "107           2\n",
      "EBMUD         2\n",
      "WIT           2\n",
      "YELALT        2\n",
      "148_5A        2\n",
      "ESCAPE        2\n",
      "970A          2\n",
      "300B          2\n",
      "243A          1\n",
      "626_9         1\n",
      "518           1\n",
      "182           1\n",
      "REDALT        1\n",
      "FLOOD         1\n",
      "243B          1\n",
      "DROWN         1\n",
      "508           1\n",
      "484E          1\n",
      "530           1\n",
      "PHONE         1\n",
      "346           1\n",
      "626_6         1\n",
      "VICE          1\n",
      "475           1\n",
      "MS            1\n",
      "Name: Incident Type Id, Length: 259, dtype: int64\n"
     ]
    }
   ],
   "source": [
    "Incident= data.loc[:,'Incident Type Id']\n",
    "print(Incident.value_counts())"
   ]
  },
  {
   "cell_type": "code",
   "execution_count": 11,
   "metadata": {},
   "outputs": [
    {
     "name": "stdout",
     "output_type": "stream",
     "text": [
      "ALARM-RINGER            18181\n",
      "SECURITY CHECK          14809\n",
      "STOLEN VEHICLE           8899\n",
      "911 HANG-UP              8529\n",
      "MENTALLY ILL             8465\n",
      "DISTURBING THE PEACE     8154\n",
      "BATTERY                  5960\n",
      "415 UNKNOWN              5607\n",
      "SUSPICIOUS PERSON        5211\n",
      "SUSPICIOUS VEHICLE       4476\n",
      "BATTERY ON CO-HABITA     4295\n",
      "415 FAMILY               4122\n",
      "HAZARDOUS SITUATION/     3813\n",
      "WELFARE CHECK -- CHE     3591\n",
      "415 GUNSHOTS             3388\n",
      "TRESPASS:                2998\n",
      "ROBBERY                  2926\n",
      "VEHICLE COLLISION-PE     2824\n",
      "415 THREATS              2487\n",
      "FIGHT                    2176\n",
      "DISTURBANCE-NEIGHBOR     2146\n",
      "ASSAULT W/DEADLY WEA     2113\n",
      "STAND BY AND PRESERV     1945\n",
      "SUBJECT ARMED WITH W     1832\n",
      "HIT & RUN (PROPERTY      1807\n",
      "ALARM-MANUALLY ACTIV     1753\n",
      "DISTURBANCE-CUSTOMER     1667\n",
      "RUNAWAY                  1546\n",
      "CRUELTY TO ANIMAL        1482\n",
      "AUTO BURGLARY--IP        1472\n",
      "                        ...  \n",
      "FALSE PERSONATION OF        2\n",
      "WITNESS                     2\n",
      "FORGED PRESCRIPTION         2\n",
      "ESCAPE DETENTION            2\n",
      "ESCAPEE                     2\n",
      "EASTBAY MUD                 2\n",
      "YELLOW ALERT AT THE         2\n",
      "FALSE REPORT OF CRIM        2\n",
      "THROWING SUBSTANCES         2\n",
      "VIN VERIFICATION            2\n",
      "RAPE VICTIM                 2\n",
      "PROTECTIVE CUSTODY-N        2\n",
      "VEHICLE PARKED ON SI        2\n",
      "VICE                        1\n",
      "EMBEZZLEMENT BY AN E        1\n",
      "FLOOD                       1\n",
      "RED ALERT-AIRPLANE I        1\n",
      "PHONE RPT                   1\n",
      "ASSSAULT                    1\n",
      "ASSAULT ON A POLICE         1\n",
      "21235 MOTORSCOOTER          1\n",
      "TICKET SCALPING             1\n",
      "IDENTITY THEFT              1\n",
      "NONSTUDENT REFUSE TO        1\n",
      "EXTORTION                   1\n",
      "OBTAIN MONEY BY FALS        1\n",
      "FIREARM AT PUBLIC SC        1\n",
      "CONSPIRACY COURT ORD        1\n",
      "DROWNING                    1\n",
      "POSSESS FORGED NOTES        1\n",
      "Name: Incident Type Description, Length: 261, dtype: int64\n"
     ]
    }
   ],
   "source": [
    "Description= data.loc[:,'Incident Type Description']\n",
    "print(Description.value_counts())"
   ]
  },
  {
   "cell_type": "code",
   "execution_count": 12,
   "metadata": {},
   "outputs": [
    {
     "name": "stdout",
     "output_type": "stream",
     "text": [
      "LOP151031000577    1\n",
      "LOP150928000267    1\n",
      "LOP151008000154    1\n",
      "LOP151227000414    1\n",
      "LOP150222000914    1\n",
      "LOP150504000972    1\n",
      "LOP151117000802    1\n",
      "LOP150102000852    1\n",
      "LOP150224000759    1\n",
      "LOP150526000585    1\n",
      "LOP150116000629    1\n",
      "LOP150510000894    1\n",
      "LOP150405000498    1\n",
      "LOP150429000787    1\n",
      "LOP150112000908    1\n",
      "LOP150705001156    1\n",
      "LOP150624000518    1\n",
      "LOP151020000734    1\n",
      "LOP150603000486    1\n",
      "LOP150410001116    1\n",
      "LOP150228000018    1\n",
      "LOP151108000118    1\n",
      "LOP150612001047    1\n",
      "LOP150222000963    1\n",
      "LOP150625000758    1\n",
      "LOP151203000195    1\n",
      "LOP150731000336    1\n",
      "LOP150826000095    1\n",
      "LOP150830000722    1\n",
      "LOP150619001016    1\n",
      "                  ..\n",
      "LOP150509000459    1\n",
      "LOP151005000647    1\n",
      "LOP150716000954    1\n",
      "LOP150302000401    1\n",
      "LOP150408000793    1\n",
      "LOP150131000449    1\n",
      "LOP150619000462    1\n",
      "LOP150713000348    1\n",
      "LOP151203000929    1\n",
      "LOP150907000254    1\n",
      "LOP150813000022    1\n",
      "LOP150710000733    1\n",
      "LOP150717001045    1\n",
      "LOP150630000279    1\n",
      "LOP150310000403    1\n",
      "LOP150818001034    1\n",
      "LOP151006000976    1\n",
      "LOP150410000195    1\n",
      "LOP150215000611    1\n",
      "LOP150124000519    1\n",
      "LOP151105001086    1\n",
      "LOP151103001113    1\n",
      "LOP150612000907    1\n",
      "LOP150824001065    1\n",
      "LOP150830000901    1\n",
      "LOP151115000325    1\n",
      "LOP151029000500    1\n",
      "LOP150119000576    1\n",
      "LOP151120000935    1\n",
      "LOP150721000889    1\n",
      "Name: Event Number, Length: 192581, dtype: int64\n"
     ]
    }
   ],
   "source": [
    "Event = data.loc[:,'Event Number']\n",
    "print(Event.value_counts())"
   ]
  },
  {
   "cell_type": "code",
   "execution_count": null,
   "metadata": {},
   "outputs": [],
   "source": []
  }
 ],
 "metadata": {
  "kernelspec": {
   "display_name": "Python 3",
   "language": "python",
   "name": "python3"
  },
  "language_info": {
   "codemirror_mode": {
    "name": "ipython",
    "version": 3
   },
   "file_extension": ".py",
   "mimetype": "text/x-python",
   "name": "python",
   "nbconvert_exporter": "python",
   "pygments_lexer": "ipython3",
   "version": "3.6.4"
  }
 },
 "nbformat": 4,
 "nbformat_minor": 2
}
