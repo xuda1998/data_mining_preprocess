{
 "cells": [
  {
   "cell_type": "markdown",
   "metadata": {},
   "source": [
    "本文档为数据摘要的分析过程，主要是在oakland-crime-statistics-2011-to-2016数据集上进行数据分析，提取标称属性并计算各聚会的频数，计算数值属性的五数概括和缺失值个数并绘制对应图表"
   ]
  },
  {
   "cell_type": "code",
   "execution_count": 1,
   "metadata": {},
   "outputs": [],
   "source": [
    "import csv\n",
    "import numpy as np\n",
    "import pandas as pd\n",
    "import matplotlib.pyplot as plt"
   ]
  },
  {
   "cell_type": "code",
   "execution_count": 2,
   "metadata": {},
   "outputs": [],
   "source": [
    "data = pd.read_csv(\"..//..//dataset//oakland-crime-statistics-2011-to-2016//records-for-2012.csv\")"
   ]
  },
  {
   "cell_type": "code",
   "execution_count": 3,
   "metadata": {},
   "outputs": [
    {
     "name": "stdout",
     "output_type": "stream",
     "text": [
      "OP    187430\n",
      "Name: Agency, dtype: int64\n"
     ]
    }
   ],
   "source": [
    "agency = data.loc[:,'Agency']\n",
    "print(agency.value_counts())"
   ]
  },
  {
   "cell_type": "code",
   "execution_count": 4,
   "metadata": {},
   "outputs": [
    {
     "name": "stdout",
     "output_type": "stream",
     "text": [
      "{'human_address': '{\"address\": \"INTERNATIONAL BLVD\", \"city\": \"\", \"state\": \"\", \"zip\": \"\"}'}                    3658\n",
      "{'human_address': '{\"address\": \"MACARTHUR BLVD\", \"city\": \"\", \"state\": \"\", \"zip\": \"\"}'}                        3335\n",
      "{'human_address': '{\"address\": \"AV&INTERNATIONAL BLVD\", \"city\": \"\", \"state\": \"\", \"zip\": \"\"}'}                 3193\n",
      "{'human_address': '{\"address\": \"BROADWAY\", \"city\": \"\", \"state\": \"\", \"zip\": \"\"}'}                              2167\n",
      "{'human_address': '{\"address\": \"FOOTHILL BLVD\", \"city\": \"\", \"state\": \"\", \"zip\": \"\"}'}                         1649\n",
      "{'human_address': '{\"address\": \"TELEGRAPH AV\", \"city\": \"\", \"state\": \"\", \"zip\": \"\"}'}                          1623\n",
      "{'human_address': '{\"address\": \"ST&BROADWAY\", \"city\": \"\", \"state\": \"\", \"zip\": \"\"}'}                           1189\n",
      "{'human_address': '{\"address\": \"7TH ST\", \"city\": \"\", \"state\": \"\", \"zip\": \"\"}'}                                1183\n",
      "{'human_address': '{\"address\": \"AV&MACARTHUR BLVD\", \"city\": \"\", \"state\": \"\", \"zip\": \"\"}'}                     1172\n",
      "{'human_address': '{\"address\": \"FRUITVALE AV\", \"city\": \"\", \"state\": \"\", \"zip\": \"\"}'}                          1161\n",
      "{'human_address': '{\"address\": \"BANCROFT AV\", \"city\": \"\", \"state\": \"\", \"zip\": \"\"}'}                           1107\n",
      "{'human_address': '{\"address\": \"73RD AV\", \"city\": \"\", \"state\": \"\", \"zip\": \"\"}'}                               1074\n",
      "{'human_address': '{\"address\": \"ST&TELEGRAPH AV\", \"city\": \"\", \"state\": \"\", \"zip\": \"\"}'}                       1051\n",
      "{'human_address': '{\"address\": \"HIGH ST\", \"city\": \"\", \"state\": \"\", \"zip\": \"\"}'}                                991\n",
      "{'human_address': '{\"address\": \"HARRISON ST\", \"city\": \"\", \"state\": \"\", \"zip\": \"\"}'}                            954\n",
      "{'human_address': '{\"address\": \"HEGENBERGER RD\", \"city\": \"\", \"state\": \"\", \"zip\": \"\"}'}                         893\n",
      "{'human_address': '{\"address\": \"SAN PABLO AV\", \"city\": \"\", \"state\": \"\", \"zip\": \"\"}'}                           871\n",
      "{'human_address': '{\"address\": \"MARKET ST\", \"city\": \"\", \"state\": \"\", \"zip\": \"\"}'}                              837\n",
      "{'human_address': '{\"address\": \"AV&FOOTHILL BLVD\", \"city\": \"\", \"state\": \"\", \"zip\": \"\"}'}                       828\n",
      "{'human_address': '{\"address\": \"WEBSTER ST\", \"city\": \"\", \"state\": \"\", \"zip\": \"\"}'}                             809\n",
      "{'human_address': '{\"address\": \"14TH ST\", \"city\": \"\", \"state\": \"\", \"zip\": \"\"}'}                                721\n",
      "{'human_address': '{\"address\": \"AV&BANCROFT AV\", \"city\": \"\", \"state\": \"\", \"zip\": \"\"}'}                         714\n",
      "{'human_address': '{\"address\": \"ST&MARTIN LUTHER KING J\", \"city\": \"\", \"state\": \"\", \"zip\": \"\"}'}                707\n",
      "{'human_address': '{\"address\": \"35TH AV\", \"city\": \"\", \"state\": \"\", \"zip\": \"\"}'}                                691\n",
      "{'human_address': '{\"address\": \"W MACARTHUR BLVD\", \"city\": \"\", \"state\": \"\", \"zip\": \"\"}'}                       672\n",
      "{'human_address': '{\"address\": \"EDGEWATER DR\", \"city\": \"\", \"state\": \"\", \"zip\": \"\"}'}                           660\n",
      "{'human_address': '{\"address\": \"GRAND AV\", \"city\": \"\", \"state\": \"\", \"zip\": \"\"}'}                               630\n",
      "{'human_address': '{\"address\": \"ADELINE ST\", \"city\": \"\", \"state\": \"\", \"zip\": \"\"}'}                             625\n",
      "{'human_address': '{\"address\": \"MARTIN LUTHER KING JR WY\", \"city\": \"\", \"state\": \"\", \"zip\": \"\"}'}               610\n",
      "{'human_address': '{\"address\": \"E 18TH ST\", \"city\": \"\", \"state\": \"\", \"zip\": \"\"}'}                              605\n",
      "                                                                                                              ... \n",
      "{'human_address': '{\"address\": \"10TH ST&SANTA YNEZ CT\", \"city\": \"\", \"state\": \"\", \"zip\": \"\"}'}                    1\n",
      "{'human_address': '{\"address\": \"PARKRIDGE CASTRO ST\", \"city\": \"\", \"state\": \"\", \"zip\": \"\"}'}                      1\n",
      "{'human_address': '{\"address\": \"MACARTHUR&EMERY MASTLANDS DR\", \"city\": \"\", \"state\": \"\", \"zip\": \"\"}'}             1\n",
      "{'human_address': '{\"address\": \"LEONA HAWTHORNE AV\", \"city\": \"\", \"state\": \"\", \"zip\": \"\"}'}                       1\n",
      "{'human_address': '{\"address\": \"25TH 102ND AV\", \"city\": \"\", \"state\": \"\", \"zip\": \"\"}'}                            1\n",
      "{'human_address': '{\"address\": \"90TH 7TH AV\", \"city\": \"\", \"state\": \"\", \"zip\": \"\"}'}                              1\n",
      "{'human_address': '{\"address\": \"57TH 18TH ST\", \"city\": \"\", \"state\": \"\", \"zip\": \"\"}'}                             1\n",
      "{'human_address': '{\"address\": \"ENOS 101ST AV\", \"city\": \"\", \"state\": \"\", \"zip\": \"\"}'}                            1\n",
      "{'human_address': '{\"address\": \"MADRONE BROADWAY\", \"city\": \"\", \"state\": \"\", \"zip\": \"\"}'}                         1\n",
      "{'human_address': '{\"address\": \"8TH BRUSH ST\", \"city\": \"\", \"state\": \"\", \"zip\": \"\"}'}                             1\n",
      "{'human_address': '{\"address\": \"MACARTHUR SHATTUCK AV\", \"city\": \"\", \"state\": \"\", \"zip\": \"\"}'}                    1\n",
      "{'human_address': '{\"address\": \"MARTIN 77TH AV\", \"city\": \"\", \"state\": \"\", \"zip\": \"\"}'}                           1\n",
      "{'human_address': '{\"address\": \"CLAREMONT 15TH ST\", \"city\": \"\", \"state\": \"\", \"zip\": \"\"}'}                        1\n",
      "{'human_address': '{\"address\": \"35TH E 34TH ST\", \"city\": \"\", \"state\": \"\", \"zip\": \"\"}'}                           1\n",
      "{'human_address': '{\"address\": \"EDGEWATER MARTIN LUTHER KING JR WY\", \"city\": \"\", \"state\": \"\", \"zip\": \"\"}'}       1\n",
      "{'human_address': '{\"address\": \"EL OAK HILL RD\", \"city\": \"\", \"state\": \"\", \"zip\": \"\"}'}                           1\n",
      "{'human_address': '{\"address\": \"8TH ST.\", \"city\": \"\", \"state\": \"\", \"zip\": \"\"}'}                                  1\n",
      "{'human_address': '{\"address\": \"PARK SAN LEANDRO ST\", \"city\": \"\", \"state\": \"\", \"zip\": \"\"}'}                      1\n",
      "{'human_address': '{\"address\": \"63RD 8TH ST\", \"city\": \"\", \"state\": \"\", \"zip\": \"\"}'}                              1\n",
      "{'human_address': '{\"address\": \"W FILBERT ST\", \"city\": \"\", \"state\": \"\", \"zip\": \"\"}'}                             1\n",
      "{'human_address': '{\"address\": \"REDWOOD LINDEN ST\", \"city\": \"\", \"state\": \"\", \"zip\": \"\"}'}                        1\n",
      "{'human_address': '{\"address\": \"E LEIGHTON CT\", \"city\": \"\", \"state\": \"\", \"zip\": \"\"}'}                            1\n",
      "{'human_address': '{\"address\": \"38TH LINCOLN AV\", \"city\": \"\", \"state\": \"\", \"zip\": \"\"}'}                          1\n",
      "{'human_address': '{\"address\": \"MORAGA AV&MACARTHUR BLVD\", \"city\": \"\", \"state\": \"\", \"zip\": \"\"}'}                 1\n",
      "{'human_address': '{\"address\": \"14TH GORDON ST\", \"city\": \"\", \"state\": \"\", \"zip\": \"\"}'}                           1\n",
      "{'human_address': '{\"address\": \"88TH LINDEN ST\", \"city\": \"\", \"state\": \"\", \"zip\": \"\"}'}                           1\n",
      "{'human_address': '{\"address\": \"COLUMBIAN TELEGRAPH AV\", \"city\": \"\", \"state\": \"\", \"zip\": \"\"}'}                   1\n",
      "{'human_address': '{\"address\": \"33RD 22ND ST\", \"city\": \"\", \"state\": \"\", \"zip\": \"\"}'}                             1\n",
      "{'human_address': '{\"address\": \"LAS E 29TH ST\", \"city\": \"\", \"state\": \"\", \"zip\": \"\"}'}                            1\n",
      "{'human_address': '{\"address\": \"GRAND FISHER AV\", \"city\": \"\", \"state\": \"\", \"zip\": \"\"}'}                          1\n",
      "Name: Location 1, Length: 35312, dtype: int64\n"
     ]
    }
   ],
   "source": [
    "Location = data.loc[:,'Location 1']\n",
    "print(Location.value_counts())"
   ]
  },
  {
   "cell_type": "code",
   "execution_count": 5,
   "metadata": {
    "scrolled": true
   },
   "outputs": [
    {
     "name": "stdout",
     "output_type": "stream",
     "text": [
      "1.0    101053\n",
      "2.0     84963\n",
      "Name: Area Id, dtype: int64\n"
     ]
    }
   ],
   "source": [
    "area = data.loc[:,'Area Id']\n",
    "print(area.value_counts())"
   ]
  },
  {
   "cell_type": "code",
   "execution_count": 6,
   "metadata": {},
   "outputs": [
    {
     "data": {
      "image/png": "[encoded data removed]",
      "text/plain": [
       "<matplotlib.figure.Figure at 0x1dc9031acf8>"
      ]
     },
     "metadata": {},
     "output_type": "display_data"
    }
   ],
   "source": [
    "num = area.value_counts()\n",
    "plt.figure()\n",
    "num.plot(kind='bar')\n",
    "plt.show()"
   ]
  },
  {
   "cell_type": "code",
   "execution_count": 7,
   "metadata": {},
   "outputs": [
    {
     "name": "stdout",
     "output_type": "stream",
     "text": [
      "04X     8088\n",
      "08X     6691\n",
      "30Y     5529\n",
      "26Y     5374\n",
      "23X     5301\n",
      "19X     5158\n",
      "30X     4988\n",
      "34X     4965\n",
      "20X     4682\n",
      "06X     4676\n",
      "29X     4606\n",
      "25X     4396\n",
      "03X     4380\n",
      "35X     4291\n",
      "07X     4235\n",
      "31Y     3975\n",
      "09X     3845\n",
      "32X     3836\n",
      "21Y     3822\n",
      "27Y     3701\n",
      "33X     3697\n",
      "27X     3685\n",
      "12Y     3344\n",
      "32Y     3328\n",
      "22X     3131\n",
      "14X     3070\n",
      "02Y     3043\n",
      "03Y     3009\n",
      "26X     2982\n",
      "10X     2961\n",
      "13Z     2946\n",
      "02X     2798\n",
      "10Y     2727\n",
      "22Y     2725\n",
      "24Y     2723\n",
      "05X     2681\n",
      "21X     2674\n",
      "15X     2671\n",
      "17Y     2635\n",
      "12X     2491\n",
      "24X     2483\n",
      "31X     2482\n",
      "28X     2321\n",
      "01X     2193\n",
      "11X     2165\n",
      "17X     2127\n",
      "35Y     1986\n",
      "13Y     1898\n",
      "31Z     1849\n",
      "18Y     1816\n",
      "16Y     1680\n",
      "14Y     1578\n",
      "25Y     1512\n",
      "18X     1224\n",
      "13X     1212\n",
      "16X     1197\n",
      "05Y      836\n",
      "PDT2      28\n",
      "Name: Beat, dtype: int64\n"
     ]
    }
   ],
   "source": [
    "Beat= data.loc[:,'Beat']\n",
    "print(Beat.value_counts())"
   ]
  },
  {
   "cell_type": "code",
   "execution_count": 8,
   "metadata": {},
   "outputs": [
    {
     "name": "stdout",
     "output_type": "stream",
     "text": [
      "2.0    145504\n",
      "1.0     41926\n",
      "Name: Priority, dtype: int64\n"
     ]
    }
   ],
   "source": [
    "Priority= data.loc[:,'Priority']\n",
    "print(Priority.value_counts())"
   ]
  },
  {
   "cell_type": "code",
   "execution_count": 9,
   "metadata": {},
   "outputs": [
    {
     "data": {
      "image/png": "[encoded data removed]",
      "text/plain": [
       "<matplotlib.figure.Figure at 0x1dc9031a5f8>"
      ]
     },
     "metadata": {},
     "output_type": "display_data"
    }
   ],
   "source": [
    "num = Priority.value_counts()\n",
    "plt.figure()\n",
    "num.plot(kind='bar')\n",
    "plt.show()"
   ]
  },
  {
   "cell_type": "code",
   "execution_count": 10,
   "metadata": {},
   "outputs": [
    {
     "name": "stdout",
     "output_type": "stream",
     "text": [
      "933R      17216\n",
      "SECCK     11488\n",
      "415       11158\n",
      "911H      10585\n",
      "10851      8208\n",
      "415C       6081\n",
      "5150       5515\n",
      "242        5206\n",
      "912        4960\n",
      "415GS      4483\n",
      "243E       4474\n",
      "211        3943\n",
      "949        3469\n",
      "HAZ        3133\n",
      "WELCK      2861\n",
      "602L       2547\n",
      "245        2507\n",
      "20002      2479\n",
      "11500      2370\n",
      "459        2269\n",
      "415TH      2216\n",
      "901A       2185\n",
      "943        2165\n",
      "647C       1979\n",
      "975        1908\n",
      "CODE7      1901\n",
      "415N       1767\n",
      "23103      1665\n",
      "601R       1643\n",
      "EVAL       1593\n",
      "          ...  \n",
      "148_5A        3\n",
      "593           3\n",
      "209           3\n",
      "955B          3\n",
      "11368         2\n",
      "148           2\n",
      "FLOOD         2\n",
      "524           2\n",
      "372           2\n",
      "PHONE         2\n",
      "203           2\n",
      "970A          2\n",
      "484E          2\n",
      "261VIC        2\n",
      "300WI         2\n",
      "140           2\n",
      "487E          2\n",
      "ESCAPE        2\n",
      "970           2\n",
      "VINVER        1\n",
      "243A          1\n",
      "10750A        1\n",
      "300B          1\n",
      "107           1\n",
      "591           1\n",
      "12020         1\n",
      "508           1\n",
      "243B          1\n",
      "285           1\n",
      "530           1\n",
      "Name: Incident Type Id, Length: 256, dtype: int64\n"
     ]
    }
   ],
   "source": [
    "Incident= data.loc[:,'Incident Type Id']\n",
    "print(Incident.value_counts())"
   ]
  },
  {
   "cell_type": "code",
   "execution_count": 11,
   "metadata": {},
   "outputs": [
    {
     "name": "stdout",
     "output_type": "stream",
     "text": [
      "ALARM-RINGER            17216\n",
      "SECURITY CHECK          11488\n",
      "911 HANG-UP             10585\n",
      "STOLEN VEHICLE           8208\n",
      "415 UNKNOWN              6081\n",
      "DISTURBING THE PEACE     6016\n",
      "MENTALLY ILL             5515\n",
      "BATTERY                  5206\n",
      "SUSPICIOUS PERSON        4960\n",
      "415 GUNSHOTS             4483\n",
      "BATTERY ON CO-HABITA     4474\n",
      "ROBBERY                  3943\n",
      "415 FAMILY               3708\n",
      "SUSPICIOUS VEHICLE       3469\n",
      "HAZARDOUS SITUATION/     3133\n",
      "WELFARE CHECK -- CHE     2861\n",
      "TRESPASS:                2547\n",
      "ASSAULT W/DEADLY WEA     2507\n",
      "HIT & RUN (PROPERTY      2479\n",
      "DRUG DEALING             2370\n",
      "BURGLARY                 2269\n",
      "415 THREATS              2216\n",
      "VEHICLE COLLISION-PE     2185\n",
      "FIGHT                    2165\n",
      "OBSTRUCT PERSON'S MO     1979\n",
      "STAND BY AND PRESERV     1908\n",
      "SUBJECT ARMED WITH W     1901\n",
      "DISTURBANCE-NEIGHBOR     1767\n",
      "RECKLESS DRIVING         1665\n",
      "RUNAWAY                  1643\n",
      "                        ...  \n",
      "EMBEZZLEMENT                3\n",
      "INSFRASTRUCTURE SECU        3\n",
      "INTERFERE WITH POWER        3\n",
      "BARKING DOG                 3\n",
      "FALSE REPORT OF CRIM        3\n",
      "THREATEN WITNESS/VIC        2\n",
      "OBSTRUCTING JUSTICE-        2\n",
      "MAYHEM                      2\n",
      "ATTEMPTED EXTORTION         2\n",
      "CHILD TAKEN INTO PRO        2\n",
      "RAPE VICTIM                 2\n",
      "FLOOD                       2\n",
      "VEHICLE PARKED ON SI        2\n",
      "GRAND THEFT: DOG            2\n",
      "MAINTAINING PUBLIC N        2\n",
      "OBTAIN MONEY BY FALS        2\n",
      "PHONE RPT                   2\n",
      "AUTO IMPROPERLY PARK        2\n",
      "ESCAPEE                     2\n",
      "ASSAULT ON A POLICE         1\n",
      "ASSSAULT                    1\n",
      "POSSESSION/MANUFACTU        1\n",
      "VIN VERIFICATION            1\n",
      "INCEST                      1\n",
      "PROTECTIVE CUSTODY-N        1\n",
      "IDENTITY THEFT              1\n",
      "EMBEZZLEMENT BY AN E        1\n",
      "ALTER/CHANGE VEHICLE        1\n",
      "INJURE TELEPHONE/POW        1\n",
      "ESCAPE DETENTION            1\n",
      "Name: Incident Type Description, Length: 258, dtype: int64\n"
     ]
    }
   ],
   "source": [
    "Description= data.loc[:,'Incident Type Description']\n",
    "print(Description.value_counts())"
   ]
  },
  {
   "cell_type": "code",
   "execution_count": 12,
   "metadata": {},
   "outputs": [
    {
     "name": "stdout",
     "output_type": "stream",
     "text": [
      "LOP120929000137    1\n",
      "LOP120124000814    1\n",
      "LOP120414000497    1\n",
      "LOP120113000754    1\n",
      "LOP120212000036    1\n",
      "LOP120906000781    1\n",
      "LOP120524000828    1\n",
      "LOP120101000869    1\n",
      "LOP121015000299    1\n",
      "LOP120826000746    1\n",
      "LOP120724000584    1\n",
      "LOP120713000402    1\n",
      "LOP121115000100    1\n",
      "LOP120311000728    1\n",
      "LOP120319000798    1\n",
      "LOP120121000685    1\n",
      "LOP120723000916    1\n",
      "LOP121230000570    1\n",
      "LOP121210000358    1\n",
      "LOP120415000861    1\n",
      "LOP120328000819    1\n",
      "LOP120103000691    1\n",
      "LOP120917000293    1\n",
      "LOP120506000747    1\n",
      "LOP120517000847    1\n",
      "LOP120722000637    1\n",
      "LOP120923000809    1\n",
      "LOP120507000643    1\n",
      "LOP120627000597    1\n",
      "LOP120607000471    1\n",
      "                  ..\n",
      "LOP120513000442    1\n",
      "LOP120902000466    1\n",
      "LOP120918000499    1\n",
      "LOP120708000147    1\n",
      "LOP120105000014    1\n",
      "LOP120112000477    1\n",
      "LOP120730000103    1\n",
      "LOP120107000109    1\n",
      "LOP120615000391    1\n",
      "LOP120606000941    1\n",
      "LOP121214000018    1\n",
      "LOP120913000510    1\n",
      "LOP121212000834    1\n",
      "LOP120821000500    1\n",
      "LOP120916000156    1\n",
      "LOP120502000021    1\n",
      "LOP120315000997    1\n",
      "LOP121015000942    1\n",
      "LOP120401000267    1\n",
      "LOP120517000035    1\n",
      "LOP121009000990    1\n",
      "LOP120228000148    1\n",
      "LOP121120000658    1\n",
      "LOP120819000382    1\n",
      "LOP120226000941    1\n",
      "LOP120911000547    1\n",
      "LOP120616000972    1\n",
      "LOP120605000407    1\n",
      "LOP120621000418    1\n",
      "LOP120206000260    1\n",
      "Name: Event Number, Length: 187430, dtype: int64\n"
     ]
    }
   ],
   "source": [
    "Event = data.loc[:,'Event Number']\n",
    "print(Event.value_counts())"
   ]
  },
  {
   "cell_type": "code",
   "execution_count": null,
   "metadata": {},
   "outputs": [],
   "source": []
  }
 ],
 "metadata": {
  "kernelspec": {
   "display_name": "Python 3",
   "language": "python",
   "name": "python3"
  },
  "language_info": {
   "codemirror_mode": {
    "name": "ipython",
    "version": 3
   },
   "file_extension": ".py",
   "mimetype": "text/x-python",
   "name": "python",
   "nbconvert_exporter": "python",
   "pygments_lexer": "ipython3",
   "version": "3.6.4"
  }
 },
 "nbformat": 4,
 "nbformat_minor": 2
}
