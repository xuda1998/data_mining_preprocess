{
 "cells": [
  {
   "cell_type": "markdown",
   "metadata": {},
   "source": [
    "读取数据集winemag-data-130k-v2.csv,并使用apriori算法进行频繁项集的挖掘"
   ]
  },
  {
   "cell_type": "code",
   "execution_count": 1,
   "metadata": {},
   "outputs": [],
   "source": [
    "import sys\n",
    "import pandas as pd"
   ]
  },
  {
   "cell_type": "code",
   "execution_count": 2,
   "metadata": {},
   "outputs": [],
   "source": [
    "def apriori(D, minSup):\n",
    "\t\n",
    "\t'''频繁项集用keys表示，\n",
    "\tkey表示项集中的某一项，\n",
    "\tcutKeys表示经过剪枝步的某k项集。\n",
    "\tC表示某k项集的每一项在事务数据库D中的支持计数\n",
    "\t'''\n",
    "\n",
    "\tC1 = {}\n",
    "\tfor T in D:\n",
    "\t\tfor I in T:\n",
    "\t\t\tif I in C1:\n",
    "\t\t\t\tC1[I] += 1\n",
    "\t\t\telse:\n",
    "\t\t\t\tC1[I] = 1\n",
    "\n",
    "\t#print(C1)\n",
    "\t_keys1 = C1.keys()\n",
    "\n",
    "\tkeys1 = []\n",
    "\tfor i in _keys1:\n",
    "\t\tkeys1.append([i])\n",
    "\n",
    "\tn = len(D)\n",
    "\tcutKeys1 = []\n",
    "\tfor k in keys1[:]:\n",
    "\t\tif C1[k[0]]*1.0/n >= minSup:\n",
    "\t\t\tcutKeys1.append(k)\n",
    "\t\n",
    "\tcutKeys1.sort()\n",
    "\n",
    "\n",
    "\tkeys = cutKeys1\n",
    "\tall_keys = []\n",
    "\twhile keys != []:\n",
    "\t\tC = getC(D, keys)\n",
    "\t\tcutKeys = getCutKeys(keys, C, minSup, len(D))\n",
    "\t\tfor key in cutKeys:\n",
    "\t\t\tall_keys.append(key)\n",
    "\t\tkeys = aproiri_gen(cutKeys)\n",
    "\n",
    "\treturn all_keys"
   ]
  },
  {
   "cell_type": "code",
   "execution_count": 3,
   "metadata": {},
   "outputs": [],
   "source": [
    "def getC(D, keys):\n",
    "\t'''对keys中的每一个key进行计数'''\n",
    "\tC = []\n",
    "\tfor key in keys:\n",
    "\t\tc = 0\n",
    "\t\tfor T in D:\n",
    "\t\t\thave = True\n",
    "\t\t\tfor k in key:\n",
    "\t\t\t\tif k not in T:\n",
    "\t\t\t\t\thave = False\n",
    "\t\t\tif have:\n",
    "\t\t\t\tc += 1\n",
    "\t\tC.append(c)\n",
    "\treturn C\n"
   ]
  },
  {
   "cell_type": "code",
   "execution_count": 4,
   "metadata": {},
   "outputs": [],
   "source": [
    "def getCutKeys(keys, C, minSup, length):\n",
    "\t'''剪枝步'''\n",
    "\tfor i, key in enumerate(keys):\n",
    "\t\tif float(C[i]) / length < minSup:\n",
    "\t\t\tkeys.remove(key)\n",
    "\treturn keys"
   ]
  },
  {
   "cell_type": "code",
   "execution_count": 5,
   "metadata": {},
   "outputs": [],
   "source": [
    "def keyInT(key, T):\n",
    "\t'''判断项key是否在数据库中某一元组T中'''\n",
    "\tfor k in key:\n",
    "\t\tif k not in T:\n",
    "\t\t\treturn False\n",
    "\treturn True\n"
   ]
  },
  {
   "cell_type": "code",
   "execution_count": 6,
   "metadata": {},
   "outputs": [],
   "source": [
    "def aproiri_gen(keys1):\n",
    "\t'''连接步'''\n",
    "\tkeys2 = []\n",
    "\tfor k1 in keys1:\n",
    "\t\tfor k2 in keys1:\n",
    "\t\t\tif k1 != k2:\n",
    "\t\t\t\tkey = []\n",
    "\t\t\t\tfor k in k1:\n",
    "\t\t\t\t\tif k not in key:\n",
    "\t\t\t\t\t\tkey.append(k)\n",
    "\t\t\t\tfor k in k2:\n",
    "\t\t\t\t\tif k not in key:\n",
    "\t\t\t\t\t\tkey.append(k)\n",
    "\t\t\t\tkey.sort()\n",
    "\t\t\t\tif key not in keys2:\n",
    "\t\t\t\t\tkeys2.append(key)\n",
    "\t\t\t\n",
    "\treturn keys2\n"
   ]
  },
  {
   "cell_type": "code",
   "execution_count": 8,
   "metadata": {},
   "outputs": [
    {
     "name": "stderr",
     "output_type": "stream",
     "text": [
      "c:\\users\\xuda9\\appdata\\local\\programs\\python\\python37-32\\lib\\site-packages\\pandas\\core\\frame.py:3997: SettingWithCopyWarning: \n",
      "A value is trying to be set on a copy of a slice from a DataFrame\n",
      "\n",
      "See the caveats in the documentation: https://pandas.pydata.org/pandas-docs/stable/user_guide/indexing.html#returning-a-view-versus-a-copy\n",
      "  errors=errors,\n"
     ]
    },
    {
     "name": "stdout",
     "output_type": "stream",
     "text": [
      "\n",
      "frequent itemset:\n",
      " [['@paulgwine\\xa0'], ['@vboone'], ['California'], ['Columbia Valley'], ['Paul Gregutt'], ['Pinot Noir'], ['US'], ['Virginie Boone'], ['Washington'], ['@paulgwine\\xa0', 'California'], ['@paulgwine\\xa0', 'Paul Gregutt'], ['@paulgwine\\xa0', 'US'], ['@paulgwine\\xa0', 'Virginie Boone'], ['@vboone', 'California'], ['@vboone', 'Columbia Valley'], ['@vboone', 'Pinot Noir'], ['@vboone', 'Virginie Boone'], ['@vboone', 'Washington'], ['California', 'Paul Gregutt'], ['California', 'US'], ['California', 'Washington'], ['Columbia Valley', 'Paul Gregutt'], ['Columbia Valley', 'Pinot Noir'], ['Columbia Valley', 'Virginie Boone'], ['Paul Gregutt', 'Pinot Noir'], ['Paul Gregutt', 'Virginie Boone'], ['Pinot Noir', 'US'], ['Pinot Noir', 'Virginie Boone'], ['Pinot Noir', 'Washington'], ['US', 'Washington'], ['@paulgwine\\xa0', 'California', 'US'], ['@paulgwine\\xa0', '@vboone', 'California'], ['@paulgwine\\xa0', '@vboone', 'California', 'Pinot Noir'], ['@paulgwine\\xa0', '@vboone', 'California', 'Washington'], ['@paulgwine\\xa0', 'California', 'Columbia Valley', 'Paul Gregutt'], ['@paulgwine\\xa0', 'California', 'Columbia Valley', 'Virginie Boone'], ['@paulgwine\\xa0', 'California', 'Paul Gregutt', 'Virginie Boone'], ['@paulgwine\\xa0', 'California', 'Pinot Noir', 'Virginie Boone'], ['@paulgwine\\xa0', 'California', 'US', 'Washington'], ['@paulgwine\\xa0', 'Paul Gregutt', 'Virginie Boone'], ['@paulgwine\\xa0', '@vboone', 'Columbia Valley', 'Paul Gregutt'], ['@paulgwine\\xa0', '@vboone', 'Paul Gregutt', 'Virginie Boone'], ['@paulgwine\\xa0', 'California', 'Paul Gregutt', 'US'], ['@paulgwine\\xa0', 'Columbia Valley', 'Paul Gregutt'], ['@paulgwine\\xa0', 'Columbia Valley', 'Paul Gregutt', 'Virginie Boone'], ['@paulgwine\\xa0', 'Paul Gregutt', 'Pinot Noir', 'US'], ['@paulgwine\\xa0', 'Paul Gregutt', 'Pinot Noir', 'Washington'], ['@paulgwine\\xa0', 'US', 'Virginie Boone'], ['@paulgwine\\xa0', '@vboone', 'California', 'US'], ['@paulgwine\\xa0', '@vboone', 'Pinot Noir', 'US'], ['@paulgwine\\xa0', '@vboone', 'US', 'Washington'], ['@paulgwine\\xa0', 'Columbia Valley', 'Pinot Noir', 'US'], ['@paulgwine\\xa0', 'Paul Gregutt', 'US', 'Virginie Boone'], ['@paulgwine\\xa0', 'Pinot Noir', 'US', 'Virginie Boone'], ['@paulgwine\\xa0', 'US', 'Washington'], ['@paulgwine\\xa0', '@vboone', 'Pinot Noir', 'Virginie Boone'], ['@paulgwine\\xa0', '@vboone', 'Virginie Boone', 'Washington'], ['@paulgwine\\xa0', 'California', 'Virginie Boone', 'Washington'], ['@paulgwine\\xa0', 'Columbia Valley', 'Virginie Boone'], ['@paulgwine\\xa0', 'Pinot Noir', 'Virginie Boone', 'Washington'], ['@vboone', 'California', 'Columbia Valley'], ['@vboone', 'California', 'Virginie Boone'], ['@vboone', 'California', 'Paul Gregutt'], ['@vboone', 'California', 'Columbia Valley', 'Paul Gregutt'], ['@vboone', 'California', 'Columbia Valley', 'Virginie Boone'], ['@vboone', 'California', 'Paul Gregutt', 'Virginie Boone'], ['@vboone', 'California', 'Pinot Noir', 'Virginie Boone'], ['@vboone', 'California', 'US', 'Washington'], ['@vboone', 'Columbia Valley', 'Virginie Boone'], ['@vboone', 'California', 'Columbia Valley', 'US'], ['@vboone', 'Columbia Valley', 'Paul Gregutt'], ['@vboone', 'Columbia Valley', 'Paul Gregutt', 'Virginie Boone'], ['@vboone', 'Columbia Valley', 'Pinot Noir', 'Virginie Boone'], ['@vboone', 'Columbia Valley', 'US', 'Washington'], ['@vboone', 'Pinot Noir', 'Washington'], ['@vboone', 'Paul Gregutt', 'Pinot Noir', 'Virginie Boone'], ['@vboone', 'Pinot Noir', 'US', 'Washington'], ['@vboone', 'California', 'US', 'Virginie Boone'], ['@vboone', 'Paul Gregutt', 'Virginie Boone'], ['@vboone', 'Pinot Noir', 'Virginie Boone', 'Washington'], ['@vboone', 'California', 'Paul Gregutt', 'Washington'], ['@vboone', 'Columbia Valley', 'Virginie Boone', 'Washington'], ['@vboone', 'Paul Gregutt', 'Virginie Boone', 'Washington'], ['California', 'Paul Gregutt', 'US'], ['California', 'Columbia Valley', 'Paul Gregutt'], ['California', 'Columbia Valley', 'Paul Gregutt', 'Virginie Boone'], ['California', 'Paul Gregutt', 'Virginie Boone'], ['California', 'Paul Gregutt', 'Pinot Noir', 'Virginie Boone'], ['California', 'Paul Gregutt', 'US', 'Washington'], ['California', 'Columbia Valley', 'Paul Gregutt', 'US'], ['California', 'Columbia Valley', 'US', 'Virginie Boone'], ['California', 'Pinot Noir', 'US'], ['California', 'Pinot Noir', 'US', 'Virginie Boone'], ['California', 'Columbia Valley', 'Paul Gregutt', 'Washington'], ['California', 'Columbia Valley', 'Virginie Boone', 'Washington'], ['California', 'Paul Gregutt', 'Virginie Boone', 'Washington'], ['California', 'Pinot Noir', 'Washington'], ['Columbia Valley', 'Paul Gregutt', 'Virginie Boone'], ['Columbia Valley', 'Paul Gregutt', 'Pinot Noir', 'Virginie Boone'], ['Columbia Valley', 'Paul Gregutt', 'US', 'Washington'], ['Columbia Valley', 'Pinot Noir', 'US'], ['Columbia Valley', 'Pinot Noir', 'US', 'Washington'], ['Columbia Valley', 'Pinot Noir', 'Virginie Boone', 'Washington'], ['Paul Gregutt', 'Pinot Noir', 'Virginie Boone'], ['Paul Gregutt', 'Pinot Noir', 'Washington'], ['Paul Gregutt', 'Pinot Noir', 'US', 'Virginie Boone'], ['Paul Gregutt', 'US', 'Virginie Boone', 'Washington'], ['Pinot Noir', 'US', 'Washington'], ['Pinot Noir', 'US', 'Virginie Boone', 'Washington'], ['@paulgwine\\xa0', '@vboone', 'California', 'Pinot Noir', 'US'], ['@paulgwine\\xa0', 'California', 'Columbia Valley', 'Paul Gregutt', 'US'], ['@paulgwine\\xa0', 'California', 'Paul Gregutt', 'US', 'Virginie Boone'], ['@paulgwine\\xa0', 'California', 'US', 'Washington'], ['@paulgwine\\xa0', '@vboone', 'California', 'Paul Gregutt', 'US', 'Virginie Boone'], ['@paulgwine\\xa0', 'California', 'Columbia Valley', 'Paul Gregutt', 'US', 'Virginie Boone'], ['@paulgwine\\xa0', 'California', 'Paul Gregutt', 'Pinot Noir', 'US', 'Washington'], ['@paulgwine\\xa0', 'California', 'Columbia Valley', 'Pinot Noir', 'US'], ['@paulgwine\\xa0', '@vboone', 'California', 'US', 'Virginie Boone', 'Washington'], ['@paulgwine\\xa0', 'California', 'Pinot Noir', 'US', 'Virginie Boone', 'Washington'], ['@paulgwine\\xa0', '@vboone', 'California', 'US', 'Virginie Boone'], ['@paulgwine\\xa0', '@vboone', 'California', 'Columbia Valley', 'US', 'Virginie Boone'], ['@paulgwine\\xa0', '@vboone', 'California', 'Columbia Valley', 'Pinot Noir', 'US', 'Virginie Boone'], ['@paulgwine\\xa0', '@vboone', 'California', 'Pinot Noir', 'US', 'Washington'], ['@paulgwine\\xa0', '@vboone', 'California', 'Pinot Noir', 'US', 'Virginie Boone', 'Washington'], ['@paulgwine\\xa0', '@vboone', 'California', 'Columbia Valley', 'US', 'Virginie Boone', 'Washington'], ['@paulgwine\\xa0', 'California', 'Paul Gregutt', 'Pinot Noir', 'US', 'Virginie Boone'], ['@paulgwine\\xa0', 'California', 'Pinot Noir', 'US'], ['@paulgwine\\xa0', 'California', 'Columbia Valley', 'US', 'Virginie Boone', 'Washington'], ['@paulgwine\\xa0', 'California', 'Pinot Noir', 'US', 'Washington'], ['@paulgwine\\xa0', 'California', 'Columbia Valley', 'Pinot Noir', 'US', 'Washington'], ['@paulgwine\\xa0', '@vboone', 'California', 'Pinot Noir'], ['@paulgwine\\xa0', '@vboone', 'California', 'Columbia Valley', 'Paul Gregutt'], ['@paulgwine\\xa0', '@vboone', 'California', 'Paul Gregutt', 'Virginie Boone'], ['@paulgwine\\xa0', '@vboone', 'California', 'Columbia Valley', 'Paul Gregutt', 'Virginie Boone'], ['@paulgwine\\xa0', '@vboone', 'California', 'Paul Gregutt', 'Pinot Noir', 'Washington'], ['@paulgwine\\xa0', '@vboone', 'California', 'Virginie Boone', 'Washington'], ['@paulgwine\\xa0', '@vboone', 'California', 'Columbia Valley'], ['@paulgwine\\xa0', '@vboone', 'California', 'Paul Gregutt'], ['@paulgwine\\xa0', '@vboone', 'California', 'Pinot Noir', 'Washington'], ['@paulgwine\\xa0', '@vboone', 'California', 'Paul Gregutt', 'Washington'], ['@paulgwine\\xa0', '@vboone', 'California', 'Paul Gregutt', 'Virginie Boone', 'Washington'], ['@paulgwine\\xa0', '@vboone', 'California', 'Columbia Valley', 'Paul Gregutt', 'Pinot Noir', 'Virginie Boone'], ['@paulgwine\\xa0', '@vboone', 'California', 'Columbia Valley', 'Pinot Noir', 'US', 'Washington'], ['@paulgwine\\xa0', '@vboone', 'California', 'Columbia Valley', 'Paul Gregutt', 'Pinot Noir'], ['@paulgwine\\xa0', '@vboone', 'California', 'Paul Gregutt', 'Pinot Noir'], ['@paulgwine\\xa0', '@vboone', 'California', 'Paul Gregutt', 'Pinot Noir', 'US', 'Washington'], ['@paulgwine\\xa0', '@vboone', 'California', 'Columbia Valley', 'Paul Gregutt', 'Pinot Noir', 'Washington'], ['@paulgwine\\xa0', '@vboone', 'California', 'Paul Gregutt', 'Pinot Noir', 'US', 'Virginie Boone', 'Washington'], ['@paulgwine\\xa0', '@vboone', 'California', 'Columbia Valley', 'Washington'], ['@paulgwine\\xa0', 'California', 'Columbia Valley', 'Paul Gregutt', 'Virginie Boone'], ['@paulgwine\\xa0', 'California', 'Columbia Valley', 'Paul Gregutt'], ['@paulgwine\\xa0', 'California', 'Columbia Valley', 'Paul Gregutt', 'Pinot Noir', 'Washington'], ['@paulgwine\\xa0', 'California', 'Columbia Valley', 'Paul Gregutt', 'Pinot Noir', 'Virginie Boone', 'Washington'], ['@paulgwine\\xa0', 'California', 'Columbia Valley', 'Paul Gregutt', 'Pinot Noir', 'US', 'Washington'], ['@paulgwine\\xa0', 'California', 'Columbia Valley', 'Paul Gregutt', 'Pinot Noir', 'US', 'Virginie Boone', 'Washington'], ['@paulgwine\\xa0', 'California', 'Columbia Valley', 'Pinot Noir', 'US', 'Virginie Boone'], ['@paulgwine\\xa0', 'California', 'Columbia Valley', 'Virginie Boone'], ['@paulgwine\\xa0', '@vboone', 'California', 'Columbia Valley', 'Pinot Noir', 'US', 'Virginie Boone', 'Washington'], ['@paulgwine\\xa0', 'California', 'Paul Gregutt', 'Virginie Boone'], ['@paulgwine\\xa0', 'California', 'Paul Gregutt', 'Virginie Boone', 'Washington'], ['@paulgwine\\xa0', 'California', 'Paul Gregutt', 'Pinot Noir', 'US', 'Virginie Boone', 'Washington'], ['@paulgwine\\xa0', '@vboone', 'Columbia Valley', 'Paul Gregutt', 'Virginie Boone'], ['@paulgwine\\xa0', 'Columbia Valley', 'Paul Gregutt', 'Virginie Boone'], ['@paulgwine\\xa0', 'Paul Gregutt', 'Pinot Noir', 'Virginie Boone', 'Washington'], ['@paulgwine\\xa0', '@vboone', 'Paul Gregutt', 'Pinot Noir', 'US', 'Virginie Boone'], ['@paulgwine\\xa0', 'Columbia Valley', 'Paul Gregutt', 'Pinot Noir', 'US', 'Virginie Boone'], ['@paulgwine\\xa0', '@vboone', 'Paul Gregutt', 'Pinot Noir', 'Virginie Boone'], ['@paulgwine\\xa0', '@vboone', 'Columbia Valley', 'Paul Gregutt', 'Pinot Noir', 'Virginie Boone'], ['@paulgwine\\xa0', '@vboone', 'Paul Gregutt', 'Pinot Noir', 'Virginie Boone', 'Washington'], ['@paulgwine\\xa0', '@vboone', 'Columbia Valley', 'Paul Gregutt', 'Virginie Boone', 'Washington'], ['@paulgwine\\xa0', 'Columbia Valley', 'Paul Gregutt', 'US', 'Virginie Boone', 'Washington'], ['@paulgwine\\xa0', 'Columbia Valley', 'Paul Gregutt', 'Pinot Noir', 'Virginie Boone', 'Washington'], ['@paulgwine\\xa0', 'Paul Gregutt', 'Pinot Noir', 'US', 'Virginie Boone', 'Washington'], ['@paulgwine\\xa0', '@vboone', 'Columbia Valley', 'Paul Gregutt', 'Pinot Noir', 'US'], ['@paulgwine\\xa0', '@vboone', 'Columbia Valley', 'Paul Gregutt', 'US', 'Virginie Boone'], ['@paulgwine\\xa0', '@vboone', 'Columbia Valley', 'Paul Gregutt', 'Pinot Noir', 'US', 'Virginie Boone'], ['@paulgwine\\xa0', '@vboone', 'Columbia Valley', 'Paul Gregutt', 'Pinot Noir', 'US', 'Washington'], ['@paulgwine\\xa0', '@vboone', 'Columbia Valley', 'Paul Gregutt', 'Pinot Noir', 'US', 'Virginie Boone', 'Washington'], ['@paulgwine\\xa0', 'Columbia Valley', 'Paul Gregutt', 'Pinot Noir', 'US'], ['@paulgwine\\xa0', 'Columbia Valley', 'Paul Gregutt', 'US', 'Virginie Boone'], ['@paulgwine\\xa0', 'Columbia Valley', 'Paul Gregutt', 'Pinot Noir', 'US', 'Washington'], ['@paulgwine\\xa0', '@vboone', 'Paul Gregutt', 'Pinot Noir', 'US'], ['@paulgwine\\xa0', '@vboone', 'Paul Gregutt', 'Pinot Noir', 'Washington'], ['@paulgwine\\xa0', 'Paul Gregutt', 'Pinot Noir', 'Washington'], ['@paulgwine\\xa0', '@vboone', 'US', 'Virginie Boone', 'Washington'], ['@paulgwine\\xa0', 'Pinot Noir', 'US', 'Virginie Boone'], ['@paulgwine\\xa0', 'Columbia Valley', 'US', 'Virginie Boone'], ['@paulgwine\\xa0', '@vboone', 'Columbia Valley', 'US', 'Virginie Boone'], ['@paulgwine\\xa0', '@vboone', 'Columbia Valley', 'US', 'Virginie Boone', 'Washington'], ['@paulgwine\\xa0', 'Columbia Valley', 'Pinot Noir', 'US', 'Virginie Boone', 'Washington'], ['@paulgwine\\xa0', '@vboone', 'Columbia Valley', 'Pinot Noir', 'US'], ['@paulgwine\\xa0', '@vboone', 'Columbia Valley', 'Pinot Noir', 'US', 'Virginie Boone', 'Washington'], ['@paulgwine\\xa0', '@vboone', 'Columbia Valley', 'US', 'Washington'], ['@paulgwine\\xa0', 'Columbia Valley', 'Pinot Noir', 'US'], ['@paulgwine\\xa0', 'Pinot Noir', 'US', 'Washington'], ['@paulgwine\\xa0', '@vboone', 'Columbia Valley', 'Pinot Noir', 'Virginie Boone'], ['@paulgwine\\xa0', '@vboone', 'Columbia Valley', 'Virginie Boone', 'Washington'], ['@paulgwine\\xa0', '@vboone', 'Columbia Valley', 'Virginie Boone'], ['@vboone', 'California', 'Columbia Valley', 'Paul Gregutt'], ['@vboone', 'California', 'Columbia Valley', 'Pinot Noir', 'Virginie Boone'], ['@vboone', 'California', 'Columbia Valley', 'US'], ['@vboone', 'California', 'Columbia Valley', 'Paul Gregutt', 'Pinot Noir', 'Virginie Boone'], ['@vboone', 'California', 'Columbia Valley', 'US', 'Virginie Boone'], ['@vboone', 'California', 'Columbia Valley', 'Paul Gregutt', 'Washington'], ['@vboone', 'California', 'Columbia Valley', 'Paul Gregutt', 'Virginie Boone', 'Washington'], ['@vboone', 'California', 'Columbia Valley', 'Paul Gregutt', 'US', 'Washington'], ['@vboone', 'California', 'Columbia Valley', 'Pinot Noir', 'US', 'Virginie Boone'], ['@vboone', 'California', 'Columbia Valley', 'Paul Gregutt', 'Pinot Noir', 'US', 'Virginie Boone'], ['@vboone', 'California', 'Columbia Valley', 'Pinot Noir', 'US', 'Virginie Boone', 'Washington'], ['@vboone', 'California', 'Pinot Noir', 'Virginie Boone'], ['@vboone', 'California', 'Columbia Valley', 'US', 'Virginie Boone', 'Washington'], ['@vboone', 'California', 'Paul Gregutt', 'Pinot Noir', 'Virginie Boone'], ['@vboone', 'California', 'US', 'Virginie Boone'], ['@vboone', 'California', 'Paul Gregutt', 'US', 'Virginie Boone'], ['@vboone', 'California', 'Columbia Valley', 'Paul Gregutt', 'US', 'Virginie Boone'], ['@vboone', 'California', 'Paul Gregutt', 'Pinot Noir', 'Virginie Boone', 'Washington'], ['@vboone', 'California', 'Paul Gregutt', 'US', 'Washington'], ['@vboone', 'California', 'Paul Gregutt', 'Pinot Noir', 'US', 'Washington'], ['@vboone', 'California', 'Paul Gregutt', 'US'], ['@vboone', 'California', 'Columbia Valley', 'Paul Gregutt', 'Pinot Noir', 'US'], ['@vboone', 'California', 'Columbia Valley', 'Paul Gregutt', 'Pinot Noir', 'Virginie Boone', 'Washington'], ['@vboone', 'California', 'Columbia Valley', 'Paul Gregutt', 'Pinot Noir', 'US', 'Virginie Boone', 'Washington'], ['@vboone', 'Columbia Valley', 'Paul Gregutt', 'Virginie Boone'], ['@vboone', 'Columbia Valley', 'US', 'Virginie Boone', 'Washington'], ['@vboone', 'Columbia Valley', 'Paul Gregutt', 'Pinot Noir', 'Virginie Boone'], ['@vboone', 'Columbia Valley', 'Virginie Boone', 'Washington'], ['@vboone', 'Columbia Valley', 'Paul Gregutt', 'US', 'Virginie Boone', 'Washington'], ['@vboone', 'Columbia Valley', 'Paul Gregutt', 'Pinot Noir', 'Virginie Boone', 'Washington'], ['@vboone', 'Columbia Valley', 'Paul Gregutt', 'US', 'Washington'], ['@vboone', 'Columbia Valley', 'Paul Gregutt', 'Pinot Noir', 'US', 'Washington'], ['@vboone', 'Columbia Valley', 'Paul Gregutt', 'Pinot Noir', 'US', 'Virginie Boone', 'Washington'], ['@vboone', 'Paul Gregutt', 'Pinot Noir', 'Virginie Boone', 'Washington'], ['@vboone', 'Pinot Noir', 'Virginie Boone', 'Washington'], ['@vboone', 'Paul Gregutt', 'Pinot Noir', 'Washington'], ['@vboone', 'Pinot Noir', 'US', 'Virginie Boone', 'Washington'], ['@vboone', 'Paul Gregutt', 'Pinot Noir', 'US', 'Virginie Boone'], ['@vboone', 'Paul Gregutt', 'Virginie Boone', 'Washington'], ['California', 'Columbia Valley', 'Paul Gregutt', 'US'], ['California', 'Paul Gregutt', 'US', 'Virginie Boone'], ['California', 'Paul Gregutt', 'US', 'Washington'], ['California', 'Columbia Valley', 'Paul Gregutt', 'US', 'Washington'], ['California', 'Paul Gregutt', 'US', 'Virginie Boone', 'Washington'], ['California', 'Columbia Valley', 'Paul Gregutt', 'Pinot Noir', 'US', 'Virginie Boone'], ['California', 'Columbia Valley', 'Paul Gregutt', 'Pinot Noir', 'US', 'Washington'], ['California', 'Paul Gregutt', 'Pinot Noir', 'US', 'Virginie Boone', 'Washington'], ['California', 'Columbia Valley', 'Paul Gregutt', 'Pinot Noir', 'Virginie Boone'], ['California', 'Columbia Valley', 'Paul Gregutt', 'Virginie Boone', 'Washington'], ['California', 'Columbia Valley', 'Paul Gregutt', 'Pinot Noir', 'Virginie Boone', 'Washington'], ['California', 'Paul Gregutt', 'Virginie Boone', 'Washington'], ['California', 'Columbia Valley', 'Pinot Noir', 'US', 'Virginie Boone'], ['California', 'Columbia Valley', 'Pinot Noir', 'US', 'Virginie Boone', 'Washington'], ['California', 'Pinot Noir', 'US', 'Washington'], ['California', 'Columbia Valley', 'Pinot Noir', 'US', 'Washington'], ['California', 'Columbia Valley', 'Pinot Noir', 'Virginie Boone', 'Washington'], ['Columbia Valley', 'Paul Gregutt', 'Pinot Noir', 'Virginie Boone'], ['Columbia Valley', 'Paul Gregutt', 'Pinot Noir', 'US', 'Virginie Boone'], ['Columbia Valley', 'Paul Gregutt', 'Pinot Noir', 'Virginie Boone', 'Washington'], ['Columbia Valley', 'Pinot Noir', 'US', 'Washington'], ['Paul Gregutt', 'Pinot Noir', 'Virginie Boone', 'Washington'], ['Paul Gregutt', 'Pinot Noir', 'US', 'Virginie Boone', 'Washington'], ['Pinot Noir', 'US', 'Virginie Boone', 'Washington'], ['@paulgwine\\xa0', '@vboone', 'California', 'Paul Gregutt', 'Pinot Noir', 'US', 'Virginie Boone'], ['@paulgwine\\xa0', '@vboone', 'California', 'Columbia Valley', 'Paul Gregutt', 'Pinot Noir', 'US', 'Virginie Boone'], ['@paulgwine\\xa0', '@vboone', 'California', 'Columbia Valley', 'Pinot Noir', 'US'], ['@paulgwine\\xa0', '@vboone', 'California', 'Pinot Noir', 'US', 'Virginie Boone'], ['@paulgwine\\xa0', '@vboone', 'California', 'Columbia Valley', 'Pinot Noir', 'US', 'Virginie Boone', 'Washington'], ['@paulgwine\\xa0', '@vboone', 'California', 'Columbia Valley', 'Pinot Noir', 'US', 'Washington'], ['@paulgwine\\xa0', '@vboone', 'California', 'Paul Gregutt', 'Pinot Noir', 'US', 'Virginie Boone', 'Washington'], ['@paulgwine\\xa0', '@vboone', 'California', 'Columbia Valley', 'Paul Gregutt', 'Pinot Noir', 'US', 'Virginie Boone', 'Washington'], ['@paulgwine\\xa0', 'California', 'Columbia Valley', 'Paul Gregutt', 'US', 'Washington'], ['@paulgwine\\xa0', 'California', 'Columbia Valley', 'Paul Gregutt', 'Pinot Noir', 'US', 'Washington'], ['@paulgwine\\xa0', '@vboone', 'California', 'Columbia Valley', 'Paul Gregutt', 'US', 'Virginie Boone', 'Washington'], ['@paulgwine\\xa0', 'California', 'Columbia Valley', 'Paul Gregutt', 'Pinot Noir', 'US', 'Virginie Boone'], ['@paulgwine\\xa0', '@vboone', 'California', 'Columbia Valley', 'Paul Gregutt', 'US'], ['@paulgwine\\xa0', 'California', 'Columbia Valley', 'Paul Gregutt', 'US'], ['@paulgwine\\xa0', '@vboone', 'California', 'Paul Gregutt', 'US', 'Virginie Boone'], ['@paulgwine\\xa0', '@vboone', 'California', 'Paul Gregutt', 'US', 'Virginie Boone', 'Washington'], ['@paulgwine\\xa0', 'California', 'Paul Gregutt', 'US', 'Virginie Boone'], ['@paulgwine\\xa0', 'California', 'Columbia Valley', 'Pinot Noir', 'US', 'Washington'], ['@paulgwine\\xa0', 'California', 'Pinot Noir', 'US', 'Virginie Boone', 'Washington'], ['@paulgwine\\xa0', 'California', 'Pinot Noir', 'US', 'Washington'], ['@paulgwine\\xa0', '@vboone', 'California', 'Columbia Valley', 'US', 'Washington'], ['@paulgwine\\xa0', 'California', 'Columbia Valley', 'Pinot Noir', 'US', 'Virginie Boone', 'Washington'], ['@paulgwine\\xa0', 'California', 'Columbia Valley', 'Pinot Noir', 'US'], ['@paulgwine\\xa0', '@vboone', 'California', 'Columbia Valley', 'US', 'Virginie Boone'], ['@paulgwine\\xa0', 'California', 'Pinot Noir', 'US', 'Virginie Boone'], ['@paulgwine\\xa0', '@vboone', 'California', 'Paul Gregutt', 'Pinot Noir', 'Virginie Boone'], ['@paulgwine\\xa0', '@vboone', 'California', 'Paul Gregutt', 'Pinot Noir', 'Washington'], ['@paulgwine\\xa0', '@vboone', 'California', 'Columbia Valley', 'Pinot Noir'], ['@paulgwine\\xa0', '@vboone', 'California', 'Pinot Noir', 'Washington'], ['@paulgwine\\xa0', '@vboone', 'California', 'Columbia Valley', 'Paul Gregutt', 'Pinot Noir', 'Washington'], ['@paulgwine\\xa0', '@vboone', 'California', 'Columbia Valley', 'Paul Gregutt', 'Pinot Noir', 'Virginie Boone', 'Washington'], ['@paulgwine\\xa0', '@vboone', 'California', 'Columbia Valley', 'Pinot Noir', 'Virginie Boone', 'Washington'], ['@paulgwine\\xa0', '@vboone', 'California', 'Columbia Valley', 'Paul Gregutt', 'Virginie Boone'], ['@paulgwine\\xa0', '@vboone', 'California', 'Columbia Valley', 'Paul Gregutt'], ['@paulgwine\\xa0', '@vboone', 'California', 'Paul Gregutt', 'Virginie Boone', 'Washington'], ['@paulgwine\\xa0', '@vboone', 'California', 'Columbia Valley', 'Virginie Boone', 'Washington'], ['@paulgwine\\xa0', '@vboone', 'California', 'Columbia Valley', 'Virginie Boone'], ['@paulgwine\\xa0', '@vboone', 'California', 'Paul Gregutt', 'Washington'], ['@paulgwine\\xa0', 'California', 'Columbia Valley', 'Paul Gregutt', 'Virginie Boone'], ['@paulgwine\\xa0', 'California', 'Columbia Valley', 'Paul Gregutt', 'Virginie Boone', 'Washington'], ['@paulgwine\\xa0', 'California', 'Columbia Valley', 'Paul Gregutt', 'Pinot Noir', 'Washington'], ['@paulgwine\\xa0', 'California', 'Columbia Valley', 'Pinot Noir', 'Virginie Boone', 'Washington'], ['@paulgwine\\xa0', 'California', 'Paul Gregutt', 'Pinot Noir', 'Virginie Boone', 'Washington'], ['@paulgwine\\xa0', '@vboone', 'Columbia Valley', 'Paul Gregutt', 'Pinot Noir', 'Virginie Boone', 'Washington'], ['@paulgwine\\xa0', '@vboone', 'Columbia Valley', 'Paul Gregutt', 'Pinot Noir', 'Virginie Boone'], ['@paulgwine\\xa0', '@vboone', 'Columbia Valley', 'Paul Gregutt', 'US', 'Virginie Boone', 'Washington'], ['@paulgwine\\xa0', '@vboone', 'Columbia Valley', 'Paul Gregutt', 'US', 'Virginie Boone'], ['@paulgwine\\xa0', 'Columbia Valley', 'Paul Gregutt', 'Pinot Noir', 'US', 'Virginie Boone'], ['@paulgwine\\xa0', 'Columbia Valley', 'Paul Gregutt', 'Pinot Noir', 'US', 'Virginie Boone', 'Washington'], ['@paulgwine\\xa0', 'Columbia Valley', 'Paul Gregutt', 'Pinot Noir', 'Virginie Boone'], ['@paulgwine\\xa0', '@vboone', 'Paul Gregutt', 'Pinot Noir', 'Virginie Boone', 'Washington'], ['@paulgwine\\xa0', 'Paul Gregutt', 'Pinot Noir', 'Virginie Boone', 'Washington'], ['@paulgwine\\xa0', '@vboone', 'Columbia Valley', 'Paul Gregutt', 'Pinot Noir', 'US', 'Washington'], ['@paulgwine\\xa0', 'Columbia Valley', 'Paul Gregutt', 'Pinot Noir', 'US', 'Washington'], ['@paulgwine\\xa0', '@vboone', 'Paul Gregutt', 'Pinot Noir', 'US', 'Washington'], ['@paulgwine\\xa0', 'Paul Gregutt', 'Pinot Noir', 'US', 'Washington'], ['@paulgwine\\xa0', '@vboone', 'Columbia Valley', 'US', 'Virginie Boone', 'Washington'], ['@paulgwine\\xa0', '@vboone', 'Paul Gregutt', 'US', 'Virginie Boone', 'Washington'], ['@paulgwine\\xa0', '@vboone', 'Columbia Valley', 'Pinot Noir', 'US', 'Virginie Boone'], ['@paulgwine\\xa0', 'Pinot Noir', 'US', 'Virginie Boone', 'Washington'], ['@paulgwine\\xa0', '@vboone', 'Columbia Valley', 'Pinot Noir', 'US', 'Washington'], ['@paulgwine\\xa0', '@vboone', 'Columbia Valley', 'Paul Gregutt', 'US', 'Washington'], ['@paulgwine\\xa0', '@vboone', 'Columbia Valley', 'Pinot Noir', 'Virginie Boone', 'Washington'], ['@paulgwine\\xa0', '@vboone', 'Columbia Valley', 'Virginie Boone', 'Washington'], ['@vboone', 'California', 'Columbia Valley', 'Paul Gregutt', 'US'], ['@vboone', 'California', 'Columbia Valley', 'Paul Gregutt', 'Washington'], ['@vboone', 'California', 'Columbia Valley', 'Paul Gregutt', 'US', 'Washington'], ['@vboone', 'California', 'Columbia Valley', 'Paul Gregutt', 'Pinot Noir', 'US', 'Virginie Boone', 'Washington'], ['@vboone', 'California', 'Columbia Valley', 'Paul Gregutt', 'Pinot Noir', 'Virginie Boone', 'Washington'], ['@vboone', 'California', 'Columbia Valley', 'Paul Gregutt', 'Pinot Noir', 'US'], ['@vboone', 'California', 'Columbia Valley', 'Paul Gregutt', 'Pinot Noir', 'Washington'], ['@vboone', 'California', 'Columbia Valley', 'Pinot Noir', 'US', 'Virginie Boone', 'Washington'], ['@vboone', 'California', 'Columbia Valley', 'Pinot Noir', 'Virginie Boone', 'Washington'], ['@vboone', 'California', 'Columbia Valley', 'US', 'Virginie Boone', 'Washington'], ['@vboone', 'California', 'Paul Gregutt', 'Pinot Noir', 'Virginie Boone'], ['@vboone', 'California', 'Paul Gregutt', 'Pinot Noir', 'US', 'Virginie Boone'], ['@vboone', 'California', 'Paul Gregutt', 'Pinot Noir', 'US', 'Virginie Boone', 'Washington'], ['@vboone', 'California', 'Pinot Noir', 'US', 'Virginie Boone', 'Washington'], ['@vboone', 'California', 'Paul Gregutt', 'US', 'Virginie Boone', 'Washington'], ['@vboone', 'California', 'Paul Gregutt', 'US', 'Washington'], ['@vboone', 'Columbia Valley', 'Paul Gregutt', 'Pinot Noir', 'Virginie Boone'], ['@vboone', 'Columbia Valley', 'Paul Gregutt', 'Pinot Noir', 'Virginie Boone', 'Washington'], ['@vboone', 'Columbia Valley', 'Paul Gregutt', 'Pinot Noir', 'US', 'Virginie Boone'], ['@vboone', 'Columbia Valley', 'Pinot Noir', 'US', 'Virginie Boone', 'Washington'], ['@vboone', 'Columbia Valley', 'Paul Gregutt', 'Pinot Noir', 'US', 'Washington'], ['@vboone', 'Paul Gregutt', 'Pinot Noir', 'US', 'Virginie Boone', 'Washington'], ['@vboone', 'California', 'Paul Gregutt', 'Virginie Boone', 'Washington'], ['California', 'Columbia Valley', 'Paul Gregutt', 'US', 'Washington'], ['California', 'Columbia Valley', 'Paul Gregutt', 'Pinot Noir', 'US', 'Virginie Boone'], ['California', 'Columbia Valley', 'Paul Gregutt', 'Pinot Noir', 'US', 'Virginie Boone', 'Washington'], ['California', 'Paul Gregutt', 'Pinot Noir', 'US', 'Virginie Boone', 'Washington'], ['California', 'Columbia Valley', 'Paul Gregutt', 'Pinot Noir', 'Virginie Boone', 'Washington'], ['California', 'Columbia Valley', 'Paul Gregutt', 'Virginie Boone', 'Washington'], ['California', 'Columbia Valley', 'Pinot Noir', 'US', 'Virginie Boone', 'Washington'], ['California', 'Pinot Noir', 'US', 'Virginie Boone', 'Washington'], ['Columbia Valley', 'Paul Gregutt', 'Pinot Noir', 'Virginie Boone', 'Washington'], ['Columbia Valley', 'Pinot Noir', 'US', 'Virginie Boone', 'Washington'], ['@paulgwine\\xa0', '@vboone', 'California', 'Paul Gregutt', 'Pinot Noir', 'US', 'Virginie Boone'], ['@paulgwine\\xa0', '@vboone', 'California', 'Paul Gregutt', 'Pinot Noir', 'US', 'Virginie Boone', 'Washington'], ['@paulgwine\\xa0', '@vboone', 'California', 'Columbia Valley', 'Pinot Noir', 'US', 'Virginie Boone', 'Washington'], ['@paulgwine\\xa0', '@vboone', 'California', 'Columbia Valley', 'Paul Gregutt', 'Pinot Noir', 'US', 'Washington'], ['@paulgwine\\xa0', '@vboone', 'California', 'Columbia Valley', 'Pinot Noir', 'US'], ['@paulgwine\\xa0', '@vboone', 'California', 'Pinot Noir', 'US', 'Virginie Boone'], ['@paulgwine\\xa0', '@vboone', 'California', 'Columbia Valley', 'Paul Gregutt', 'US', 'Virginie Boone', 'Washington'], ['@paulgwine\\xa0', '@vboone', 'California', 'Columbia Valley', 'Paul Gregutt', 'US', 'Washington'], ['@paulgwine\\xa0', 'California', 'Columbia Valley', 'Paul Gregutt', 'US', 'Virginie Boone', 'Washington'], ['@paulgwine\\xa0', '@vboone', 'California', 'Columbia Valley', 'Paul Gregutt', 'US'], ['@paulgwine\\xa0', 'California', 'Columbia Valley', 'Paul Gregutt', 'US', 'Virginie Boone'], ['@paulgwine\\xa0', '@vboone', 'California', 'Paul Gregutt', 'US', 'Virginie Boone', 'Washington'], ['@paulgwine\\xa0', 'California', 'Paul Gregutt', 'Pinot Noir', 'US', 'Virginie Boone', 'Washington'], ['@paulgwine\\xa0', 'California', 'Columbia Valley', 'Pinot Noir', 'US', 'Virginie Boone', 'Washington'], ['@paulgwine\\xa0', 'California', 'Pinot Noir', 'US', 'Virginie Boone', 'Washington'], ['@paulgwine\\xa0', '@vboone', 'California', 'Pinot Noir', 'US', 'Washington'], ['@paulgwine\\xa0', '@vboone', 'California', 'Columbia Valley', 'US', 'Virginie Boone', 'Washington'], ['@paulgwine\\xa0', '@vboone', 'California', 'Columbia Valley', 'US', 'Virginie Boone'], ['@paulgwine\\xa0', '@vboone', 'California', 'Columbia Valley', 'Paul Gregutt', 'Pinot Noir', 'Virginie Boone'], ['@paulgwine\\xa0', '@vboone', 'California', 'Paul Gregutt', 'Pinot Noir', 'Virginie Boone'], ['@paulgwine\\xa0', '@vboone', 'California', 'Paul Gregutt', 'Pinot Noir', 'Washington'], ['@paulgwine\\xa0', '@vboone', 'California', 'Columbia Valley', 'Pinot Noir', 'Virginie Boone', 'Washington'], ['@paulgwine\\xa0', '@vboone', 'California', 'Columbia Valley', 'Pinot Noir', 'Virginie Boone'], ['@paulgwine\\xa0', '@vboone', 'California', 'Columbia Valley', 'Paul Gregutt', 'Virginie Boone', 'Washington'], ['@paulgwine\\xa0', '@vboone', 'California', 'Paul Gregutt', 'Virginie Boone', 'Washington'], ['@paulgwine\\xa0', '@vboone', 'California', 'Paul Gregutt', 'US', 'Washington'], ['@paulgwine\\xa0', 'California', 'Columbia Valley', 'Paul Gregutt', 'Pinot Noir', 'Virginie Boone', 'Washington'], ['@paulgwine\\xa0', 'California', 'Paul Gregutt', 'Pinot Noir', 'Virginie Boone', 'Washington'], ['@paulgwine\\xa0', '@vboone', 'Columbia Valley', 'Paul Gregutt', 'Pinot Noir', 'US', 'Virginie Boone', 'Washington'], ['@paulgwine\\xa0', '@vboone', 'Columbia Valley', 'Paul Gregutt', 'Pinot Noir', 'Virginie Boone'], ['@paulgwine\\xa0', 'Columbia Valley', 'Paul Gregutt', 'Pinot Noir', 'US', 'Virginie Boone', 'Washington'], ['@paulgwine\\xa0', 'Columbia Valley', 'Paul Gregutt', 'Pinot Noir', 'Virginie Boone', 'Washington'], ['@paulgwine\\xa0', '@vboone', 'Paul Gregutt', 'Pinot Noir', 'US', 'Virginie Boone', 'Washington'], ['@paulgwine\\xa0', '@vboone', 'Columbia Valley', 'Paul Gregutt', 'Pinot Noir', 'US', 'Washington'], ['@paulgwine\\xa0', '@vboone', 'Paul Gregutt', 'Pinot Noir', 'US', 'Washington'], ['@paulgwine\\xa0', '@vboone', 'Columbia Valley', 'US', 'Virginie Boone', 'Washington'], ['@paulgwine\\xa0', '@vboone', 'Columbia Valley', 'Pinot Noir', 'Virginie Boone', 'Washington'], ['@vboone', 'California', 'Columbia Valley', 'Paul Gregutt', 'Pinot Noir', 'US', 'Virginie Boone', 'Washington'], ['@vboone', 'California', 'Columbia Valley', 'Paul Gregutt', 'Pinot Noir', 'US', 'Washington'], ['@vboone', 'California', 'Columbia Valley', 'Paul Gregutt', 'Pinot Noir', 'US', 'Virginie Boone'], ['@vboone', 'California', 'Columbia Valley', 'Paul Gregutt', 'Pinot Noir', 'Washington'], ['@vboone', 'California', 'Columbia Valley', 'Pinot Noir', 'US', 'Virginie Boone', 'Washington'], ['@vboone', 'California', 'Paul Gregutt', 'Pinot Noir', 'US', 'Virginie Boone', 'Washington'], ['@vboone', 'California', 'Paul Gregutt', 'Pinot Noir', 'Virginie Boone', 'Washington'], ['@vboone', 'California', 'Paul Gregutt', 'US', 'Virginie Boone', 'Washington'], ['@vboone', 'Columbia Valley', 'Paul Gregutt', 'Pinot Noir', 'US', 'Virginie Boone'], ['@vboone', 'Columbia Valley', 'Pinot Noir', 'US', 'Virginie Boone', 'Washington'], ['California', 'Columbia Valley', 'Paul Gregutt', 'US', 'Virginie Boone', 'Washington'], ['California', 'Columbia Valley', 'Paul Gregutt', 'Pinot Noir', 'Virginie Boone', 'Washington'], ['Columbia Valley', 'Paul Gregutt', 'Pinot Noir', 'US', 'Virginie Boone', 'Washington'], ['@paulgwine\\xa0', '@vboone', 'California', 'Columbia Valley', 'Paul Gregutt', 'Pinot Noir', 'US', 'Virginie Boone', 'Washington'], ['@paulgwine\\xa0', '@vboone', 'California', 'Paul Gregutt', 'Pinot Noir', 'US', 'Virginie Boone'], ['@paulgwine\\xa0', '@vboone', 'California', 'Columbia Valley', 'Paul Gregutt', 'Pinot Noir', 'US', 'Washington'], ['@paulgwine\\xa0', '@vboone', 'California', 'Columbia Valley', 'Paul Gregutt', 'Pinot Noir', 'US'], ['@paulgwine\\xa0', '@vboone', 'California', 'Pinot Noir', 'US', 'Virginie Boone', 'Washington'], ['@paulgwine\\xa0', '@vboone', 'California', 'Columbia Valley', 'Paul Gregutt', 'US', 'Washington'], ['@paulgwine\\xa0', 'California', 'Columbia Valley', 'Paul Gregutt', 'Pinot Noir', 'US', 'Virginie Boone', 'Washington'], ['@paulgwine\\xa0', '@vboone', 'California', 'Paul Gregutt', 'US', 'Virginie Boone', 'Washington'], ['@paulgwine\\xa0', 'California', 'Columbia Valley', 'Pinot Noir', 'US', 'Virginie Boone', 'Washington'], ['@paulgwine\\xa0', '@vboone', 'California', 'Columbia Valley', 'US', 'Virginie Boone', 'Washington'], ['@paulgwine\\xa0', '@vboone', 'California', 'Columbia Valley', 'Paul Gregutt', 'Pinot Noir', 'Virginie Boone', 'Washington'], ['@paulgwine\\xa0', '@vboone', 'California', 'Columbia Valley', 'Paul Gregutt', 'Pinot Noir', 'Washington'], ['@paulgwine\\xa0', '@vboone', 'California', 'Columbia Valley', 'Paul Gregutt', 'Virginie Boone', 'Washington'], ['@paulgwine\\xa0', '@vboone', 'Columbia Valley', 'Paul Gregutt', 'Pinot Noir', 'US', 'Virginie Boone', 'Washington'], ['@paulgwine\\xa0', '@vboone', 'Columbia Valley', 'Paul Gregutt', 'Pinot Noir', 'US', 'Virginie Boone'], ['@paulgwine\\xa0', '@vboone', 'Paul Gregutt', 'Pinot Noir', 'US', 'Virginie Boone', 'Washington'], ['@paulgwine\\xa0', '@vboone', 'Columbia Valley', 'Pinot Noir', 'US', 'Virginie Boone', 'Washington'], ['@vboone', 'California', 'Columbia Valley', 'Paul Gregutt', 'Pinot Noir', 'US', 'Washington'], ['@vboone', 'California', 'Columbia Valley', 'Paul Gregutt', 'Pinot Noir', 'Virginie Boone', 'Washington'], ['@vboone', 'California', 'Paul Gregutt', 'Pinot Noir', 'US', 'Virginie Boone', 'Washington'], ['@vboone', 'Columbia Valley', 'Paul Gregutt', 'Pinot Noir', 'US', 'Virginie Boone', 'Washington'], ['@paulgwine\\xa0', '@vboone', 'California', 'Columbia Valley', 'Paul Gregutt', 'Pinot Noir', 'US', 'Virginie Boone'], ['@paulgwine\\xa0', '@vboone', 'California', 'Columbia Valley', 'Paul Gregutt', 'Pinot Noir', 'US', 'Washington'], ['@paulgwine\\xa0', '@vboone', 'California', 'Columbia Valley', 'Paul Gregutt', 'US', 'Virginie Boone', 'Washington'], ['@paulgwine\\xa0', '@vboone', 'California', 'Columbia Valley', 'Paul Gregutt', 'Pinot Noir', 'Virginie Boone', 'Washington'], ['@vboone', 'California', 'Columbia Valley', 'Paul Gregutt', 'Pinot Noir', 'US', 'Virginie Boone', 'Washington']]\n"
     ]
    }
   ],
   "source": [
    "source_data = pd.read_csv(\"..\\..\\dataset\\wine-reviews\\winemag-data-130k-v2.csv\")\n",
    "data = source_data.dropna()\n",
    "data.drop(data.columns[[0,2,4,5]],axis=1,inplace=True) #缺失值处理\n",
    "list = data.values.tolist()\n",
    "ans = apriori(list, 0.21)\n",
    "print('\\nfrequent itemset:\\n', ans)#输出频繁项集"
   ]
  },
  {
   "cell_type": "code",
   "execution_count": null,
   "metadata": {},
   "outputs": [],
   "source": []
  },
  {
   "cell_type": "code",
   "execution_count": null,
   "metadata": {},
   "outputs": [],
   "source": []
  }
 ],
 "metadata": {
  "kernelspec": {
   "display_name": "Python 3",
   "language": "python",
   "name": "python3"
  },
  "language_info": {
   "codemirror_mode": {
    "name": "ipython",
    "version": 3
   },
   "file_extension": ".py",
   "mimetype": "text/x-python",
   "name": "python",
   "nbconvert_exporter": "python",
   "pygments_lexer": "ipython3",
   "version": "3.7.3"
  }
 },
 "nbformat": 4,
 "nbformat_minor": 4
}
