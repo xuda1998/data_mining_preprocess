{
 "cells": [
  {
   "cell_type": "markdown",
   "metadata": {},
   "source": [
    "读取数据集winemag-data-130k-v2.csv,并进行频繁项集的挖掘"
   ]
  },
  {
   "cell_type": "code",
   "execution_count": 1,
   "metadata": {},
   "outputs": [],
   "source": [
    "import sys\n",
    "import pandas as pd"
   ]
  },
  {
   "cell_type": "code",
   "execution_count": 2,
   "metadata": {},
   "outputs": [],
   "source": [
    "def apriori(D, minSup):\n",
    "\t\n",
    "\t'''频繁项集用keys表示，\n",
    "\tkey表示项集中的某一项，\n",
    "\tcutKeys表示经过剪枝步的某k项集。\n",
    "\tC表示某k项集的每一项在事务数据库D中的支持计数\n",
    "\t'''\n",
    "\n",
    "\tC1 = {}\n",
    "\tfor T in D:\n",
    "\t\tfor I in T:\n",
    "\t\t\tif I in C1:\n",
    "\t\t\t\tC1[I] += 1\n",
    "\t\t\telse:\n",
    "\t\t\t\tC1[I] = 1\n",
    "\n",
    "\tprint(C1)\n",
    "\t_keys1 = C1.keys()\n",
    "\n",
    "\tkeys1 = []\n",
    "\tfor i in _keys1:\n",
    "\t\tkeys1.append([i])\n",
    "\n",
    "\tn = len(D)\n",
    "\tcutKeys1 = []\n",
    "\tfor k in keys1[:]:\n",
    "\t\tif C1[k[0]]*1.0/n >= minSup:\n",
    "\t\t\tcutKeys1.append(k)\n",
    "\t\n",
    "\tcutKeys1.sort()\n",
    "\n",
    "\n",
    "\tkeys = cutKeys1\n",
    "\tall_keys = []\n",
    "\twhile keys != []:\n",
    "\t\tC = getC(D, keys)\n",
    "\t\tcutKeys = getCutKeys(keys, C, minSup, len(D))\n",
    "\t\tfor key in cutKeys:\n",
    "\t\t\tall_keys.append(key)\n",
    "\t\tkeys = aproiri_gen(cutKeys)\n",
    "\n",
    "\treturn all_keys"
   ]
  },
  {
   "cell_type": "code",
   "execution_count": 8,
   "metadata": {},
   "outputs": [],
   "source": [
    "def getC(D, keys):\n",
    "\t'''对keys中的每一个key进行计数'''\n",
    "\tC = []\n",
    "\tfor key in keys:\n",
    "\t\tc = 0\n",
    "\t\tfor T in D:\n",
    "\t\t\thave = True\n",
    "\t\t\tfor k in key:\n",
    "\t\t\t\tif k not in T:\n",
    "\t\t\t\t\thave = False\n",
    "\t\t\tif have:\n",
    "\t\t\t\tc += 1\n",
    "\t\tC.append(c)\n",
    "\treturn C\n"
   ]
  },
  {
   "cell_type": "code",
   "execution_count": 9,
   "metadata": {},
   "outputs": [],
   "source": [
    "def getCutKeys(keys, C, minSup, length):\n",
    "\t'''剪枝步'''\n",
    "\tfor i, key in enumerate(keys):\n",
    "\t\tif float(C[i]) / length < minSup:\n",
    "\t\t\tkeys.remove(key)\n",
    "\treturn keys"
   ]
  },
  {
   "cell_type": "code",
   "execution_count": 10,
   "metadata": {},
   "outputs": [],
   "source": [
    "def keyInT(key, T):\n",
    "\t'''判断项key是否在数据库中某一元组T中'''\n",
    "\tfor k in key:\n",
    "\t\tif k not in T:\n",
    "\t\t\treturn False\n",
    "\treturn True\n"
   ]
  },
  {
   "cell_type": "code",
   "execution_count": 11,
   "metadata": {},
   "outputs": [],
   "source": [
    "def aproiri_gen(keys1):\n",
    "\t'''连接步'''\n",
    "\tkeys2 = []\n",
    "\tfor k1 in keys1:\n",
    "\t\tfor k2 in keys1:\n",
    "\t\t\tif k1 != k2:\n",
    "\t\t\t\tkey = []\n",
    "\t\t\t\tfor k in k1:\n",
    "\t\t\t\t\tif k not in key:\n",
    "\t\t\t\t\t\tkey.append(k)\n",
    "\t\t\t\tfor k in k2:\n",
    "\t\t\t\t\tif k not in key:\n",
    "\t\t\t\t\t\tkey.append(k)\n",
    "\t\t\t\tkey.sort()\n",
    "\t\t\t\tif key not in keys2:\n",
    "\t\t\t\t\tkeys2.append(key)\n",
    "\t\t\t\n",
    "\treturn keys2\n"
   ]
  },
  {
   "cell_type": "code",
   "execution_count": 13,
   "metadata": {},
   "outputs": [],
   "source": [
    "#D = [['A','B','C','D'],['B','C','E'],['A','B','C','E'],['B','D','E'],['A','B','C','D']]\n",
    "source_data = pd.read_csv(\"..\\..\\dataset\\wine-reviews\\winemag-data-130k-v2.csv\")\n",
    "list = source_data.values.tolist()\n",
    "ans = apriori(list, 0.7)\n",
    "print('\\nfrequent itemset:\\n', ans)"
   ]
  },
  {
   "cell_type": "code",
   "execution_count": null,
   "metadata": {},
   "outputs": [],
   "source": []
  }
 ],
 "metadata": {
  "kernelspec": {
   "display_name": "Python 3",
   "language": "python",
   "name": "python3"
  },
  "language_info": {
   "codemirror_mode": {
    "name": "ipython",
    "version": 3
   },
   "file_extension": ".py",
   "mimetype": "text/x-python",
   "name": "python",
   "nbconvert_exporter": "python",
   "pygments_lexer": "ipython3",
   "version": "3.7.3"
  }
 },
 "nbformat": 4,
 "nbformat_minor": 4
}
